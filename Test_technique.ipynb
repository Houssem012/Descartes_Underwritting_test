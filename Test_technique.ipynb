{
  "nbformat": 4,
  "nbformat_minor": 0,
  "metadata": {
    "kernelspec": {
      "display_name": "Python 3",
      "language": "python",
      "name": "python3"
    },
    "language_info": {
      "codemirror_mode": {
        "name": "ipython",
        "version": 3
      },
      "file_extension": ".py",
      "mimetype": "text/x-python",
      "name": "python",
      "nbconvert_exporter": "python",
      "pygments_lexer": "ipython3",
      "version": "3.7.9"
    },
    "colab": {
      "name": "Test technique.ipynb",
      "provenance": []
    }
  },
  "cells": [
    {
      "cell_type": "markdown",
      "metadata": {
        "id": "Ug6G4wI7Gxb9"
      },
      "source": [
        "# Context : Descartes Underwritting technical test\n",
        "## Candidate & Author : Houssem GUIDARA\n",
        "### Purpose of this notebook : Provided the dataset *train_auto.csv*, we need to:\n",
        "\n",
        "- Analyze the data in order to get useful insights\n",
        "- Implement a solid machine learning algorithm for binary classification to be trained on the before mentionned dataset.\n",
        "- Generate predictions for the *test_auto.csv* datasert."
      ]
    },
    {
      "cell_type": "markdown",
      "metadata": {
        "id": "lyziNoFgwLsJ"
      },
      "source": [
        "# Importing librairies"
      ]
    },
    {
      "cell_type": "code",
      "metadata": {
        "id": "RSCiX0KSwLsL"
      },
      "source": [
        "# !pip install flaml # De-comment if needed\n",
        "import pandas as pd\n",
        "import seaborn as sns\n",
        "import numpy as np\n",
        "import warnings\n",
        "from flaml import AutoML\n",
        "\n",
        "from sklearn import tree\n",
        "from sklearn.ensemble import RandomForestClassifier\n",
        "from sklearn.pipeline import Pipeline\n",
        "from sklearn.impute import SimpleImputer\n",
        "from sklearn.preprocessing import StandardScaler, OneHotEncoder, OrdinalEncoder, FunctionTransformer\n",
        "from sklearn.compose import make_column_transformer\n",
        "from sklearn.compose import ColumnTransformer\n",
        "from sklearn.model_selection import train_test_split\n",
        "from sklearn.metrics import balanced_accuracy_score, accuracy_score, f1_score\n",
        "\n",
        "sns.set_theme(style=\"whitegrid\")\n",
        "warnings.filterwarnings('ignore')"
      ],
      "execution_count": 1,
      "outputs": []
    },
    {
      "cell_type": "markdown",
      "metadata": {
        "id": "UTg_fcJMwLsO"
      },
      "source": [
        "# Data Analysis"
      ]
    },
    {
      "cell_type": "markdown",
      "metadata": {
        "id": "BmqIllU75f1s"
      },
      "source": [
        "### Load data"
      ]
    },
    {
      "cell_type": "code",
      "metadata": {
        "colab": {
          "base_uri": "https://localhost:8080/",
          "height": 787
        },
        "id": "SwF59EMywLsO",
        "outputId": "93a66f4a-2223-47e4-f221-d26206347919"
      },
      "source": [
        "df_train = pd.read_csv(\"train_auto.csv\", index_col = \"INDEX\")\n",
        "X, y = df_train.drop(columns = \"TARGET_FLAG\"), df_train[\"TARGET_FLAG\"]\n",
        "X"
      ],
      "execution_count": 2,
      "outputs": [
        {
          "output_type": "execute_result",
          "data": {
            "text/html": [
              "<div>\n",
              "<style scoped>\n",
              "    .dataframe tbody tr th:only-of-type {\n",
              "        vertical-align: middle;\n",
              "    }\n",
              "\n",
              "    .dataframe tbody tr th {\n",
              "        vertical-align: top;\n",
              "    }\n",
              "\n",
              "    .dataframe thead th {\n",
              "        text-align: right;\n",
              "    }\n",
              "</style>\n",
              "<table border=\"1\" class=\"dataframe\">\n",
              "  <thead>\n",
              "    <tr style=\"text-align: right;\">\n",
              "      <th></th>\n",
              "      <th>TARGET_AMT</th>\n",
              "      <th>KIDSDRIV</th>\n",
              "      <th>AGE</th>\n",
              "      <th>HOMEKIDS</th>\n",
              "      <th>YOJ</th>\n",
              "      <th>INCOME</th>\n",
              "      <th>PARENT1</th>\n",
              "      <th>HOME_VAL</th>\n",
              "      <th>MSTATUS</th>\n",
              "      <th>SEX</th>\n",
              "      <th>EDUCATION</th>\n",
              "      <th>JOB</th>\n",
              "      <th>TRAVTIME</th>\n",
              "      <th>CAR_USE</th>\n",
              "      <th>BLUEBOOK</th>\n",
              "      <th>TIF</th>\n",
              "      <th>CAR_TYPE</th>\n",
              "      <th>RED_CAR</th>\n",
              "      <th>OLDCLAIM</th>\n",
              "      <th>CLM_FREQ</th>\n",
              "      <th>REVOKED</th>\n",
              "      <th>MVR_PTS</th>\n",
              "      <th>CAR_AGE</th>\n",
              "      <th>URBANICITY</th>\n",
              "    </tr>\n",
              "    <tr>\n",
              "      <th>INDEX</th>\n",
              "      <th></th>\n",
              "      <th></th>\n",
              "      <th></th>\n",
              "      <th></th>\n",
              "      <th></th>\n",
              "      <th></th>\n",
              "      <th></th>\n",
              "      <th></th>\n",
              "      <th></th>\n",
              "      <th></th>\n",
              "      <th></th>\n",
              "      <th></th>\n",
              "      <th></th>\n",
              "      <th></th>\n",
              "      <th></th>\n",
              "      <th></th>\n",
              "      <th></th>\n",
              "      <th></th>\n",
              "      <th></th>\n",
              "      <th></th>\n",
              "      <th></th>\n",
              "      <th></th>\n",
              "      <th></th>\n",
              "      <th></th>\n",
              "    </tr>\n",
              "  </thead>\n",
              "  <tbody>\n",
              "    <tr>\n",
              "      <th>1</th>\n",
              "      <td>0.0</td>\n",
              "      <td>0</td>\n",
              "      <td>60.0</td>\n",
              "      <td>0</td>\n",
              "      <td>11.0</td>\n",
              "      <td>$67,349</td>\n",
              "      <td>No</td>\n",
              "      <td>$0</td>\n",
              "      <td>z_No</td>\n",
              "      <td>M</td>\n",
              "      <td>PhD</td>\n",
              "      <td>Professional</td>\n",
              "      <td>14</td>\n",
              "      <td>Private</td>\n",
              "      <td>$14,230</td>\n",
              "      <td>11</td>\n",
              "      <td>Minivan</td>\n",
              "      <td>yes</td>\n",
              "      <td>$4,461</td>\n",
              "      <td>2</td>\n",
              "      <td>No</td>\n",
              "      <td>3</td>\n",
              "      <td>18.0</td>\n",
              "      <td>Highly Urban/ Urban</td>\n",
              "    </tr>\n",
              "    <tr>\n",
              "      <th>2</th>\n",
              "      <td>0.0</td>\n",
              "      <td>0</td>\n",
              "      <td>43.0</td>\n",
              "      <td>0</td>\n",
              "      <td>11.0</td>\n",
              "      <td>$91,449</td>\n",
              "      <td>No</td>\n",
              "      <td>$257,252</td>\n",
              "      <td>z_No</td>\n",
              "      <td>M</td>\n",
              "      <td>z_High School</td>\n",
              "      <td>z_Blue Collar</td>\n",
              "      <td>22</td>\n",
              "      <td>Commercial</td>\n",
              "      <td>$14,940</td>\n",
              "      <td>1</td>\n",
              "      <td>Minivan</td>\n",
              "      <td>yes</td>\n",
              "      <td>$0</td>\n",
              "      <td>0</td>\n",
              "      <td>No</td>\n",
              "      <td>0</td>\n",
              "      <td>1.0</td>\n",
              "      <td>Highly Urban/ Urban</td>\n",
              "    </tr>\n",
              "    <tr>\n",
              "      <th>4</th>\n",
              "      <td>0.0</td>\n",
              "      <td>0</td>\n",
              "      <td>35.0</td>\n",
              "      <td>1</td>\n",
              "      <td>10.0</td>\n",
              "      <td>$16,039</td>\n",
              "      <td>No</td>\n",
              "      <td>$124,191</td>\n",
              "      <td>Yes</td>\n",
              "      <td>z_F</td>\n",
              "      <td>z_High School</td>\n",
              "      <td>Clerical</td>\n",
              "      <td>5</td>\n",
              "      <td>Private</td>\n",
              "      <td>$4,010</td>\n",
              "      <td>4</td>\n",
              "      <td>z_SUV</td>\n",
              "      <td>no</td>\n",
              "      <td>$38,690</td>\n",
              "      <td>2</td>\n",
              "      <td>No</td>\n",
              "      <td>3</td>\n",
              "      <td>10.0</td>\n",
              "      <td>Highly Urban/ Urban</td>\n",
              "    </tr>\n",
              "    <tr>\n",
              "      <th>5</th>\n",
              "      <td>0.0</td>\n",
              "      <td>0</td>\n",
              "      <td>51.0</td>\n",
              "      <td>0</td>\n",
              "      <td>14.0</td>\n",
              "      <td>NaN</td>\n",
              "      <td>No</td>\n",
              "      <td>$306,251</td>\n",
              "      <td>Yes</td>\n",
              "      <td>M</td>\n",
              "      <td>&lt;High School</td>\n",
              "      <td>z_Blue Collar</td>\n",
              "      <td>32</td>\n",
              "      <td>Private</td>\n",
              "      <td>$15,440</td>\n",
              "      <td>7</td>\n",
              "      <td>Minivan</td>\n",
              "      <td>yes</td>\n",
              "      <td>$0</td>\n",
              "      <td>0</td>\n",
              "      <td>No</td>\n",
              "      <td>0</td>\n",
              "      <td>6.0</td>\n",
              "      <td>Highly Urban/ Urban</td>\n",
              "    </tr>\n",
              "    <tr>\n",
              "      <th>6</th>\n",
              "      <td>0.0</td>\n",
              "      <td>0</td>\n",
              "      <td>50.0</td>\n",
              "      <td>0</td>\n",
              "      <td>NaN</td>\n",
              "      <td>$114,986</td>\n",
              "      <td>No</td>\n",
              "      <td>$243,925</td>\n",
              "      <td>Yes</td>\n",
              "      <td>z_F</td>\n",
              "      <td>PhD</td>\n",
              "      <td>Doctor</td>\n",
              "      <td>36</td>\n",
              "      <td>Private</td>\n",
              "      <td>$18,000</td>\n",
              "      <td>1</td>\n",
              "      <td>z_SUV</td>\n",
              "      <td>no</td>\n",
              "      <td>$19,217</td>\n",
              "      <td>2</td>\n",
              "      <td>Yes</td>\n",
              "      <td>3</td>\n",
              "      <td>17.0</td>\n",
              "      <td>Highly Urban/ Urban</td>\n",
              "    </tr>\n",
              "    <tr>\n",
              "      <th>...</th>\n",
              "      <td>...</td>\n",
              "      <td>...</td>\n",
              "      <td>...</td>\n",
              "      <td>...</td>\n",
              "      <td>...</td>\n",
              "      <td>...</td>\n",
              "      <td>...</td>\n",
              "      <td>...</td>\n",
              "      <td>...</td>\n",
              "      <td>...</td>\n",
              "      <td>...</td>\n",
              "      <td>...</td>\n",
              "      <td>...</td>\n",
              "      <td>...</td>\n",
              "      <td>...</td>\n",
              "      <td>...</td>\n",
              "      <td>...</td>\n",
              "      <td>...</td>\n",
              "      <td>...</td>\n",
              "      <td>...</td>\n",
              "      <td>...</td>\n",
              "      <td>...</td>\n",
              "      <td>...</td>\n",
              "      <td>...</td>\n",
              "    </tr>\n",
              "    <tr>\n",
              "      <th>10297</th>\n",
              "      <td>0.0</td>\n",
              "      <td>0</td>\n",
              "      <td>35.0</td>\n",
              "      <td>0</td>\n",
              "      <td>11.0</td>\n",
              "      <td>$43,112</td>\n",
              "      <td>No</td>\n",
              "      <td>$0</td>\n",
              "      <td>z_No</td>\n",
              "      <td>M</td>\n",
              "      <td>z_High School</td>\n",
              "      <td>z_Blue Collar</td>\n",
              "      <td>51</td>\n",
              "      <td>Commercial</td>\n",
              "      <td>$27,330</td>\n",
              "      <td>10</td>\n",
              "      <td>Panel Truck</td>\n",
              "      <td>yes</td>\n",
              "      <td>$0</td>\n",
              "      <td>0</td>\n",
              "      <td>No</td>\n",
              "      <td>0</td>\n",
              "      <td>8.0</td>\n",
              "      <td>z_Highly Rural/ Rural</td>\n",
              "    </tr>\n",
              "    <tr>\n",
              "      <th>10298</th>\n",
              "      <td>0.0</td>\n",
              "      <td>1</td>\n",
              "      <td>45.0</td>\n",
              "      <td>2</td>\n",
              "      <td>9.0</td>\n",
              "      <td>$164,669</td>\n",
              "      <td>No</td>\n",
              "      <td>$386,273</td>\n",
              "      <td>Yes</td>\n",
              "      <td>M</td>\n",
              "      <td>PhD</td>\n",
              "      <td>Manager</td>\n",
              "      <td>21</td>\n",
              "      <td>Private</td>\n",
              "      <td>$13,270</td>\n",
              "      <td>15</td>\n",
              "      <td>Minivan</td>\n",
              "      <td>no</td>\n",
              "      <td>$0</td>\n",
              "      <td>0</td>\n",
              "      <td>No</td>\n",
              "      <td>2</td>\n",
              "      <td>17.0</td>\n",
              "      <td>Highly Urban/ Urban</td>\n",
              "    </tr>\n",
              "    <tr>\n",
              "      <th>10299</th>\n",
              "      <td>0.0</td>\n",
              "      <td>0</td>\n",
              "      <td>46.0</td>\n",
              "      <td>0</td>\n",
              "      <td>9.0</td>\n",
              "      <td>$107,204</td>\n",
              "      <td>No</td>\n",
              "      <td>$332,591</td>\n",
              "      <td>Yes</td>\n",
              "      <td>M</td>\n",
              "      <td>Masters</td>\n",
              "      <td>NaN</td>\n",
              "      <td>36</td>\n",
              "      <td>Commercial</td>\n",
              "      <td>$24,490</td>\n",
              "      <td>6</td>\n",
              "      <td>Panel Truck</td>\n",
              "      <td>no</td>\n",
              "      <td>$0</td>\n",
              "      <td>0</td>\n",
              "      <td>No</td>\n",
              "      <td>0</td>\n",
              "      <td>1.0</td>\n",
              "      <td>Highly Urban/ Urban</td>\n",
              "    </tr>\n",
              "    <tr>\n",
              "      <th>10301</th>\n",
              "      <td>0.0</td>\n",
              "      <td>0</td>\n",
              "      <td>50.0</td>\n",
              "      <td>0</td>\n",
              "      <td>7.0</td>\n",
              "      <td>$43,445</td>\n",
              "      <td>No</td>\n",
              "      <td>$149,248</td>\n",
              "      <td>Yes</td>\n",
              "      <td>z_F</td>\n",
              "      <td>Bachelors</td>\n",
              "      <td>Home Maker</td>\n",
              "      <td>36</td>\n",
              "      <td>Private</td>\n",
              "      <td>$22,550</td>\n",
              "      <td>6</td>\n",
              "      <td>Minivan</td>\n",
              "      <td>no</td>\n",
              "      <td>$0</td>\n",
              "      <td>0</td>\n",
              "      <td>No</td>\n",
              "      <td>0</td>\n",
              "      <td>11.0</td>\n",
              "      <td>Highly Urban/ Urban</td>\n",
              "    </tr>\n",
              "    <tr>\n",
              "      <th>10302</th>\n",
              "      <td>0.0</td>\n",
              "      <td>0</td>\n",
              "      <td>52.0</td>\n",
              "      <td>0</td>\n",
              "      <td>11.0</td>\n",
              "      <td>$53,235</td>\n",
              "      <td>No</td>\n",
              "      <td>$197,017</td>\n",
              "      <td>Yes</td>\n",
              "      <td>z_F</td>\n",
              "      <td>z_High School</td>\n",
              "      <td>Clerical</td>\n",
              "      <td>64</td>\n",
              "      <td>Private</td>\n",
              "      <td>$19,400</td>\n",
              "      <td>6</td>\n",
              "      <td>Minivan</td>\n",
              "      <td>no</td>\n",
              "      <td>$0</td>\n",
              "      <td>0</td>\n",
              "      <td>No</td>\n",
              "      <td>0</td>\n",
              "      <td>9.0</td>\n",
              "      <td>z_Highly Rural/ Rural</td>\n",
              "    </tr>\n",
              "  </tbody>\n",
              "</table>\n",
              "<p>8161 rows × 24 columns</p>\n",
              "</div>"
            ],
            "text/plain": [
              "       TARGET_AMT  KIDSDRIV   AGE  ...  MVR_PTS  CAR_AGE             URBANICITY\n",
              "INDEX                              ...                                         \n",
              "1             0.0         0  60.0  ...        3     18.0    Highly Urban/ Urban\n",
              "2             0.0         0  43.0  ...        0      1.0    Highly Urban/ Urban\n",
              "4             0.0         0  35.0  ...        3     10.0    Highly Urban/ Urban\n",
              "5             0.0         0  51.0  ...        0      6.0    Highly Urban/ Urban\n",
              "6             0.0         0  50.0  ...        3     17.0    Highly Urban/ Urban\n",
              "...           ...       ...   ...  ...      ...      ...                    ...\n",
              "10297         0.0         0  35.0  ...        0      8.0  z_Highly Rural/ Rural\n",
              "10298         0.0         1  45.0  ...        2     17.0    Highly Urban/ Urban\n",
              "10299         0.0         0  46.0  ...        0      1.0    Highly Urban/ Urban\n",
              "10301         0.0         0  50.0  ...        0     11.0    Highly Urban/ Urban\n",
              "10302         0.0         0  52.0  ...        0      9.0  z_Highly Rural/ Rural\n",
              "\n",
              "[8161 rows x 24 columns]"
            ]
          },
          "metadata": {},
          "execution_count": 2
        }
      ]
    },
    {
      "cell_type": "markdown",
      "metadata": {
        "id": "utWiJBo95ilp"
      },
      "source": [
        "### What about data balance ?"
      ]
    },
    {
      "cell_type": "code",
      "metadata": {
        "colab": {
          "base_uri": "https://localhost:8080/",
          "height": 285
        },
        "id": "YL5gatrNwLsP",
        "outputId": "81ea98f5-0a2b-45e1-eba7-d11b01b6818d"
      },
      "source": [
        "y_value_counts = y.value_counts()\n",
        "sns.barplot(x=y_value_counts.index, y=y_value_counts)"
      ],
      "execution_count": 3,
      "outputs": [
        {
          "output_type": "execute_result",
          "data": {
            "text/plain": [
              "<matplotlib.axes._subplots.AxesSubplot at 0x7fea9de75590>"
            ]
          },
          "metadata": {},
          "execution_count": 3
        },
        {
          "output_type": "display_data",
          "data": {
            "image/png": "[encoded data removed]",
            "text/plain": [
              "<Figure size 432x288 with 1 Axes>"
            ]
          },
          "metadata": {
            "needs_background": "light"
          }
        }
      ]
    },
    {
      "cell_type": "markdown",
      "metadata": {
        "id": "QRlH0I9dwLsP"
      },
      "source": [
        "We clearly observe that we are dealing with an unbalanced dataset.\n",
        "Roughly speaking, 75% of the data are labelled with the label **0** meaning that no flag has been raised for the clients in question. Hence, special attention should be paid when choosing the metrics for the models. "
      ]
    },
    {
      "cell_type": "markdown",
      "metadata": {
        "id": "ZwzE6_2451Xo"
      },
      "source": [
        "### Let's determine the numerical variables and the categorical ones !"
      ]
    },
    {
      "cell_type": "code",
      "metadata": {
        "colab": {
          "base_uri": "https://localhost:8080/"
        },
        "id": "D0-EKci4wLsP",
        "outputId": "578581cc-308a-468b-c5c4-e0c2167005f2"
      },
      "source": [
        "X.nunique()"
      ],
      "execution_count": 4,
      "outputs": [
        {
          "output_type": "execute_result",
          "data": {
            "text/plain": [
              "TARGET_AMT    1949\n",
              "KIDSDRIV         5\n",
              "AGE             60\n",
              "HOMEKIDS         6\n",
              "YOJ             21\n",
              "INCOME        6612\n",
              "PARENT1          2\n",
              "HOME_VAL      5106\n",
              "MSTATUS          2\n",
              "SEX              2\n",
              "EDUCATION        5\n",
              "JOB              8\n",
              "TRAVTIME        97\n",
              "CAR_USE          2\n",
              "BLUEBOOK      2789\n",
              "TIF             23\n",
              "CAR_TYPE         6\n",
              "RED_CAR          2\n",
              "OLDCLAIM      2857\n",
              "CLM_FREQ         6\n",
              "REVOKED          2\n",
              "MVR_PTS         13\n",
              "CAR_AGE         30\n",
              "URBANICITY       2\n",
              "dtype: int64"
            ]
          },
          "metadata": {},
          "execution_count": 4
        }
      ]
    },
    {
      "cell_type": "markdown",
      "metadata": {
        "id": "GIHRQq1j592b"
      },
      "source": [
        "#### First insights:\n",
        "Based on the number of unique values of each features as well as a quick grasp of the first rows of the dataset, we can start by seperating the features having less than 8 unique variables as potential categorical variables. "
      ]
    },
    {
      "cell_type": "code",
      "metadata": {
        "id": "4Q4xrZDMwLsQ"
      },
      "source": [
        "cat_var = [col for col in X.columns if df_train.nunique()[col]<=8]\n",
        "num_var = [col for col in X.columns if col not in cat_var]"
      ],
      "execution_count": 5,
      "outputs": []
    },
    {
      "cell_type": "markdown",
      "metadata": {
        "id": "jO8Qf-Ot6Z6-"
      },
      "source": [
        "#### Deeper look within categorical variables !"
      ]
    },
    {
      "cell_type": "code",
      "metadata": {
        "colab": {
          "base_uri": "https://localhost:8080/"
        },
        "id": "haeD-A-6wLsQ",
        "outputId": "666c71dd-2788-4102-f582-e745b8466916"
      },
      "source": [
        "unique_values = {\n",
        "    col : X[col].value_counts() for col in cat_var\n",
        "}\n",
        "for k,v in unique_values.items():\n",
        "    print(f\"\\tUnique values for the variable {k} are:\\n{v}\")\n",
        "    print(\"\\n\")"
      ],
      "execution_count": 6,
      "outputs": [
        {
          "output_type": "stream",
          "name": "stdout",
          "text": [
            "\tUnique values for the variable KIDSDRIV are:\n",
            "0    7180\n",
            "1     636\n",
            "2     279\n",
            "3      62\n",
            "4       4\n",
            "Name: KIDSDRIV, dtype: int64\n",
            "\n",
            "\n",
            "\tUnique values for the variable HOMEKIDS are:\n",
            "0    5289\n",
            "2    1118\n",
            "1     902\n",
            "3     674\n",
            "4     164\n",
            "5      14\n",
            "Name: HOMEKIDS, dtype: int64\n",
            "\n",
            "\n",
            "\tUnique values for the variable PARENT1 are:\n",
            "No     7084\n",
            "Yes    1077\n",
            "Name: PARENT1, dtype: int64\n",
            "\n",
            "\n",
            "\tUnique values for the variable MSTATUS are:\n",
            "Yes     4894\n",
            "z_No    3267\n",
            "Name: MSTATUS, dtype: int64\n",
            "\n",
            "\n",
            "\tUnique values for the variable SEX are:\n",
            "z_F    4375\n",
            "M      3786\n",
            "Name: SEX, dtype: int64\n",
            "\n",
            "\n",
            "\tUnique values for the variable EDUCATION are:\n",
            "z_High School    2330\n",
            "Bachelors        2242\n",
            "Masters          1658\n",
            "<High School     1203\n",
            "PhD               728\n",
            "Name: EDUCATION, dtype: int64\n",
            "\n",
            "\n",
            "\tUnique values for the variable JOB are:\n",
            "z_Blue Collar    1825\n",
            "Clerical         1271\n",
            "Professional     1117\n",
            "Manager           988\n",
            "Lawyer            835\n",
            "Student           712\n",
            "Home Maker        641\n",
            "Doctor            246\n",
            "Name: JOB, dtype: int64\n",
            "\n",
            "\n",
            "\tUnique values for the variable CAR_USE are:\n",
            "Private       5132\n",
            "Commercial    3029\n",
            "Name: CAR_USE, dtype: int64\n",
            "\n",
            "\n",
            "\tUnique values for the variable CAR_TYPE are:\n",
            "z_SUV          2294\n",
            "Minivan        2145\n",
            "Pickup         1389\n",
            "Sports Car      907\n",
            "Van             750\n",
            "Panel Truck     676\n",
            "Name: CAR_TYPE, dtype: int64\n",
            "\n",
            "\n",
            "\tUnique values for the variable RED_CAR are:\n",
            "no     5783\n",
            "yes    2378\n",
            "Name: RED_CAR, dtype: int64\n",
            "\n",
            "\n",
            "\tUnique values for the variable CLM_FREQ are:\n",
            "0    5009\n",
            "2    1171\n",
            "1     997\n",
            "3     776\n",
            "4     190\n",
            "5      18\n",
            "Name: CLM_FREQ, dtype: int64\n",
            "\n",
            "\n",
            "\tUnique values for the variable REVOKED are:\n",
            "No     7161\n",
            "Yes    1000\n",
            "Name: REVOKED, dtype: int64\n",
            "\n",
            "\n",
            "\tUnique values for the variable URBANICITY are:\n",
            "Highly Urban/ Urban      6492\n",
            "z_Highly Rural/ Rural    1669\n",
            "Name: URBANICITY, dtype: int64\n",
            "\n",
            "\n"
          ]
        }
      ]
    },
    {
      "cell_type": "markdown",
      "metadata": {
        "id": "vRPZXw5o6fad"
      },
      "source": [
        "We clearly remark that 3 features are falsely considered as categorical variables, namely *KIDSDRIV*, *HOMEKIDS* and *CLM_FREQ*."
      ]
    },
    {
      "cell_type": "code",
      "metadata": {
        "colab": {
          "base_uri": "https://localhost:8080/"
        },
        "id": "e9RZpyNiwLsR",
        "outputId": "28dac730-3280-4d70-99ef-1e73f556db78"
      },
      "source": [
        "vars_to_add_num = ['KIDSDRIV', 'HOMEKIDS', 'CLM_FREQ']\n",
        "cat_var = [col for col in cat_var if col not in vars_to_add_num]\n",
        "num_var = [col for col in X.columns if col not in cat_var]\n",
        "print(f\"We have {len(cat_var)} categorical variables and {len(num_var)} numerical variables.\")\n",
        "print(f\"\\tCategorical variables are:\\n{cat_var}\")\n",
        "print(f\"\\tNumerical variables are:\\n{num_var}\")"
      ],
      "execution_count": 7,
      "outputs": [
        {
          "output_type": "stream",
          "name": "stdout",
          "text": [
            "We have 10 categorical variables and 14 numerical variables.\n",
            "\tCategorical variables are:\n",
            "['PARENT1', 'MSTATUS', 'SEX', 'EDUCATION', 'JOB', 'CAR_USE', 'CAR_TYPE', 'RED_CAR', 'REVOKED', 'URBANICITY']\n",
            "\tNumerical variables are:\n",
            "['TARGET_AMT', 'KIDSDRIV', 'AGE', 'HOMEKIDS', 'YOJ', 'INCOME', 'HOME_VAL', 'TRAVTIME', 'BLUEBOOK', 'TIF', 'OLDCLAIM', 'CLM_FREQ', 'MVR_PTS', 'CAR_AGE']\n"
          ]
        }
      ]
    },
    {
      "cell_type": "markdown",
      "metadata": {
        "id": "Vk10wg7I66Tw"
      },
      "source": [
        "We also remark that some values in the categorical variables are weird (contain \"z_\" prefix for example). \n",
        "\n",
        "Let's clean the data !"
      ]
    },
    {
      "cell_type": "code",
      "metadata": {
        "id": "R_AHZVhNwLsS"
      },
      "source": [
        "# Let's fix weird categories notations\n",
        "def fix_values(value):\n",
        "\n",
        "    if value in [np.nan, None]:\n",
        "        return value\n",
        "    if value[:2] == \"z_\":\n",
        "        return value[2:]\n",
        "    elif value[0] == \"<\":\n",
        "        return value[1:]\n",
        "    else:\n",
        "        return value\n",
        "\n",
        "        \n",
        "for col in cat_var:\n",
        "    X[col] = X[col].apply(fix_values)\n",
        "    df_train[col] = df_train[col].apply(fix_values)    "
      ],
      "execution_count": 8,
      "outputs": []
    },
    {
      "cell_type": "markdown",
      "metadata": {
        "id": "FviWX2ir7L0g"
      },
      "source": [
        "## Data visualization\n",
        "### Explore some of the dataset features"
      ]
    },
    {
      "cell_type": "code",
      "metadata": {
        "colab": {
          "base_uri": "https://localhost:8080/",
          "height": 330
        },
        "id": "i10nsLjmwLsS",
        "outputId": "618b3a37-ba88-4d83-9f79-c826bfd494f9"
      },
      "source": [
        "import matplotlib.pyplot as plt\n",
        "import seaborn as sns\n",
        "\n",
        "fig, axs = plt.subplots(figsize= (20,5),ncols=3)\n",
        "axs[1].tick_params(axis='x', rotation=30)\n",
        "\n",
        "sns.barplot(\n",
        "    x=X[\"SEX\"].value_counts().index,\n",
        "    y=X[\"SEX\"].value_counts(),\n",
        "    ax=axs[0])\n",
        "\n",
        "sns.barplot(\n",
        "    x=X[\"JOB\"].value_counts().index,\n",
        "    y=X[\"JOB\"].value_counts(),\n",
        "    ax=axs[1])\n",
        "\n",
        "sns.barplot(\n",
        "    x=X[\"CAR_TYPE\"].value_counts().index,\n",
        "    y=X[\"CAR_TYPE\"].value_counts(),\n",
        "    ax=axs[2])"
      ],
      "execution_count": 9,
      "outputs": [
        {
          "output_type": "execute_result",
          "data": {
            "text/plain": [
              "<matplotlib.axes._subplots.AxesSubplot at 0x7fea9d719b10>"
            ]
          },
          "metadata": {},
          "execution_count": 9
        },
        {
          "output_type": "display_data",
          "data": {
            "image/png": "[encoded data removed]",
            "text/plain": [
              "<Figure size 1440x360 with 3 Axes>"
            ]
          },
          "metadata": {
            "needs_background": "light"
          }
        }
      ]
    },
    {
      "cell_type": "markdown",
      "metadata": {
        "id": "9OLB-P2-wLsU"
      },
      "source": [
        "We remark that features' categories are not distributed evenly for all of the three categories. The gap is not that significant for the *SEX* feature but when it comes to *JOB* and *CAR_TYPE* features, the gap is really important as the count for some categories may exceed 4 times the count of others."
      ]
    },
    {
      "cell_type": "code",
      "metadata": {
        "colab": {
          "base_uri": "https://localhost:8080/",
          "height": 390
        },
        "id": "JJlmKgQTwLsV",
        "outputId": "bf8c57b5-d967-4e80-8df6-2b7840e0f6e7"
      },
      "source": [
        "fig, ax = plt.subplots(figsize= (15,5))\n",
        "ax.tick_params(axis='x', rotation=30)\n",
        "\n",
        "data = df_train[[\"TARGET_FLAG\", \"JOB\"]]\n",
        "data[\"count\"] = 0\n",
        "data = data.groupby([\"JOB\", \"TARGET_FLAG\"])\\\n",
        "    .count()\\\n",
        "    .reset_index()#.rename({'SE':'index1'}, axis = 'columns')\n",
        "\n",
        "sns.barplot(x=\"JOB\", y=\"count\", hue=\"TARGET_FLAG\", data = data, ax=ax)"
      ],
      "execution_count": 10,
      "outputs": [
        {
          "output_type": "execute_result",
          "data": {
            "text/plain": [
              "<matplotlib.axes._subplots.AxesSubplot at 0x7fea9d7b53d0>"
            ]
          },
          "metadata": {},
          "execution_count": 10
        },
        {
          "output_type": "display_data",
          "data": {
            "image/png": "[encoded data removed]",
            "text/plain": [
              "<Figure size 1080x360 with 1 Axes>"
            ]
          },
          "metadata": {
            "needs_background": "light"
          }
        }
      ]
    },
    {
      "cell_type": "markdown",
      "metadata": {
        "id": "U9BBlxAI7mha"
      },
      "source": [
        "Statistically speaking, individuals with manual jobs are much more likely to be flagged than the white collar population."
      ]
    },
    {
      "cell_type": "code",
      "metadata": {
        "colab": {
          "base_uri": "https://localhost:8080/",
          "height": 360
        },
        "id": "c08cja6EwLsV",
        "outputId": "1ae533e8-356b-4e81-bed8-84ad4144f4b7"
      },
      "source": [
        "fig, ax = plt.subplots(figsize= (15,5))\n",
        "ax.tick_params(axis='x', rotation=30)\n",
        "\n",
        "data = df_train[[\"TARGET_FLAG\", \"SEX\"]]\n",
        "data[\"count\"] = 0\n",
        "data = data.groupby([\"SEX\", \"TARGET_FLAG\"])\\\n",
        "    .count()\\\n",
        "    .reset_index()#.rename({'SE':'index1'}, axis = 'columns')\n",
        "\n",
        "sns.barplot(x=\"SEX\", y=\"count\", hue=\"TARGET_FLAG\", data = data, ax=ax)"
      ],
      "execution_count": 11,
      "outputs": [
        {
          "output_type": "execute_result",
          "data": {
            "text/plain": [
              "<matplotlib.axes._subplots.AxesSubplot at 0x7fea9d576610>"
            ]
          },
          "metadata": {},
          "execution_count": 11
        },
        {
          "output_type": "display_data",
          "data": {
            "image/png": "[encoded data removed]",
            "text/plain": [
              "<Figure size 1080x360 with 1 Axes>"
            ]
          },
          "metadata": {
            "needs_background": "light"
          }
        }
      ]
    },
    {
      "cell_type": "markdown",
      "metadata": {
        "id": "xBpdm4Ht756a"
      },
      "source": [
        "We observe that *Male* individuals have slightly higher probabilities of getting flagged."
      ]
    },
    {
      "cell_type": "code",
      "metadata": {
        "colab": {
          "base_uri": "https://localhost:8080/",
          "height": 517
        },
        "id": "Rnoe_uTJwLsW",
        "outputId": "91f80b3d-129a-43b0-b05b-d67e2af3f436"
      },
      "source": [
        "data = df_train[[\"TARGET_FLAG\", \"SEX\", \"JOB\"]]\n",
        "data[\"count\"] = 0\n",
        "data = data.groupby([\"SEX\", \"TARGET_FLAG\", \"JOB\"])\\\n",
        "    .count()\\\n",
        "    .reset_index()\n",
        "\n",
        "sns.catplot(x=\"JOB\", y=\"count\", hue=\"TARGET_FLAG\", col=\"SEX\", data = data, kind=\"bar\",\n",
        "                height=10)"
      ],
      "execution_count": 12,
      "outputs": [
        {
          "output_type": "execute_result",
          "data": {
            "text/plain": [
              "<seaborn.axisgrid.FacetGrid at 0x7fea9d4a12d0>"
            ]
          },
          "metadata": {},
          "execution_count": 12
        },
        {
          "output_type": "display_data",
          "data": {
            "image/png": "[encoded data removed]",
            "text/plain": [
              "<Figure size 1532.8x720 with 2 Axes>"
            ]
          },
          "metadata": {
            "needs_background": "light"
          }
        }
      ]
    },
    {
      "cell_type": "markdown",
      "metadata": {
        "id": "v0QaT0PW8Wak"
      },
      "source": [
        "From the above figure we can easily make 2 interpretations:\n",
        "- There is some equilibrium regarding job distributions among both genders with the exception of the **Home Maker** category where women are much more present.\n",
        "- Females having white collar jobs are more likely to get flagged compared to their Males counterparts."
      ]
    },
    {
      "cell_type": "markdown",
      "metadata": {
        "id": "ckdL0JUlwLsX"
      },
      "source": [
        "## Analysis for numerical data"
      ]
    },
    {
      "cell_type": "markdown",
      "metadata": {
        "id": "S6wqos2jwLsX"
      },
      "source": [
        "### clean data from special characters\n",
        "Columns with money related information are provided with special characters making the pandas.DataFrame kernel interpret it as string. \n",
        "\n",
        "Therefore, we need to clean it."
      ]
    },
    {
      "cell_type": "code",
      "metadata": {
        "id": "a3pXcdPbwLsX"
      },
      "source": [
        "ft_to_clean = [\"OLDCLAIM\", \"HOME_VAL\", \"INCOME\", \"BLUEBOOK\"]\n",
        "\n",
        "def clean_ft_money(val):\n",
        "    try:\n",
        "        if val == None:\n",
        "            return np.nan\n",
        "        if type(val) == float:\n",
        "            return val\n",
        "        ch = \"\"\n",
        "        for c in val:  \n",
        "            if c.isalpha() or c.isnumeric() or c == \".\":\n",
        "                ch += c\n",
        "        return float(ch)\n",
        "    except:\n",
        "        print(val, type(val))\n",
        "\n",
        "for col in ft_to_clean:\n",
        "    X[col] = X[col].apply(clean_ft_money).astype(float)\n",
        "    df_train[col] = df_train[col].apply(clean_ft_money).astype(float)"
      ],
      "execution_count": 13,
      "outputs": []
    },
    {
      "cell_type": "markdown",
      "metadata": {
        "id": "uBNnqUFnwLsY"
      },
      "source": [
        "### analyze a sample of numerical features"
      ]
    },
    {
      "cell_type": "code",
      "metadata": {
        "colab": {
          "base_uri": "https://localhost:8080/",
          "height": 303
        },
        "id": "p77xqYExwLsY",
        "outputId": "33af800f-05a0-4eb1-ab8d-fe198c5f2cb3"
      },
      "source": [
        "sns.histplot(x=\"AGE\", hue= \"TARGET_FLAG\", data = df_train, bins=10)"
      ],
      "execution_count": 14,
      "outputs": [
        {
          "output_type": "execute_result",
          "data": {
            "text/plain": [
              "<matplotlib.axes._subplots.AxesSubplot at 0x7fea9d6dc350>"
            ]
          },
          "metadata": {},
          "execution_count": 14
        },
        {
          "output_type": "display_data",
          "data": {
            "image/png": "[encoded data removed]",
            "text/plain": [
              "<Figure size 432x288 with 1 Axes>"
            ]
          },
          "metadata": {
            "needs_background": "light"
          }
        }
      ]
    },
    {
      "cell_type": "code",
      "metadata": {
        "colab": {
          "base_uri": "https://localhost:8080/",
          "height": 247
        },
        "id": "ShsDqUs8wLsZ",
        "outputId": "a1940fe0-49f1-4cf0-94f6-216bfc782940"
      },
      "source": [
        "fig, ax = plt.subplots(figsize= (10,3))\n",
        "\n",
        "data = df_train[[\"TARGET_FLAG\", \"KIDSDRIV\"]]\n",
        "data[\"count\"] = 0\n",
        "data = data.groupby([\"KIDSDRIV\", \"TARGET_FLAG\"])\\\n",
        "    .count()\\\n",
        "    .reset_index()#.rename({'SE':'index1'}, axis = 'columns')\n",
        "\n",
        "sns.barplot(x=\"KIDSDRIV\", y=\"count\", hue=\"TARGET_FLAG\", data = data, ax=ax)"
      ],
      "execution_count": 15,
      "outputs": [
        {
          "output_type": "execute_result",
          "data": {
            "text/plain": [
              "<matplotlib.axes._subplots.AxesSubplot at 0x7fea9dedbe90>"
            ]
          },
          "metadata": {},
          "execution_count": 15
        },
        {
          "output_type": "display_data",
          "data": {
            "image/png": "[encoded data removed]",
            "text/plain": [
              "<Figure size 720x216 with 1 Axes>"
            ]
          },
          "metadata": {
            "needs_background": "light"
          }
        }
      ]
    },
    {
      "cell_type": "code",
      "metadata": {
        "colab": {
          "base_uri": "https://localhost:8080/",
          "height": 247
        },
        "id": "etAQuwenwLsZ",
        "outputId": "2e00d2c3-495f-4173-fb47-d5ad76a0f59d"
      },
      "source": [
        "fig, ax = plt.subplots(figsize= (8,3))\n",
        "\n",
        "data = df_train[[\"TARGET_FLAG\", \"KIDSDRIV\"]]\n",
        "data[\"count\"] = 0\n",
        "data = data.groupby([\"KIDSDRIV\", \"TARGET_FLAG\"])\\\n",
        "    .count()\\\n",
        "    .reset_index()#.rename({'SE':'index1'}, axis = 'columns')\n",
        "\n",
        "sns.barplot(x=\"KIDSDRIV\", y=\"count\", hue=\"TARGET_FLAG\", data = data.loc[data[\"KIDSDRIV\"] > 0], ax=ax)"
      ],
      "execution_count": 16,
      "outputs": [
        {
          "output_type": "execute_result",
          "data": {
            "text/plain": [
              "<matplotlib.axes._subplots.AxesSubplot at 0x7fea9df8ec90>"
            ]
          },
          "metadata": {},
          "execution_count": 16
        },
        {
          "output_type": "display_data",
          "data": {
            "image/png": "[encoded data removed]",
            "text/plain": [
              "<Figure size 576x216 with 1 Axes>"
            ]
          },
          "metadata": {
            "needs_background": "light"
          }
        }
      ]
    },
    {
      "cell_type": "markdown",
      "metadata": {
        "id": "3000dFDlwLsa"
      },
      "source": [
        "#### Interpretations\n",
        "- The probability of being flagged is much higher among population under 20's and over 60's\n",
        "- The probability of being flagged is an increasing function of variable *KIDSDRIV* which most like refers the number of kids that are driving the vehicules with the parent."
      ]
    },
    {
      "cell_type": "code",
      "metadata": {
        "colab": {
          "base_uri": "https://localhost:8080/",
          "height": 490
        },
        "id": "q3BFz-T5wLsa",
        "outputId": "59450597-a611-4436-e6f7-19f75d37237b"
      },
      "source": [
        "corr = df_train.corr()\n",
        "mask = np.zeros_like(corr)\n",
        "mask[np.triu_indices_from(mask)] = True\n",
        "\n",
        "f, ax = plt.subplots(figsize=(8, 7))\n",
        "ax = sns.heatmap(corr, square=True)"
      ],
      "execution_count": 17,
      "outputs": [
        {
          "output_type": "display_data",
          "data": {
            "image/png": "[encoded data removed]",
            "text/plain": [
              "<Figure size 576x504 with 2 Axes>"
            ]
          },
          "metadata": {
            "needs_background": "light"
          }
        }
      ]
    },
    {
      "cell_type": "code",
      "metadata": {
        "colab": {
          "base_uri": "https://localhost:8080/",
          "height": 332
        },
        "id": "YoByqrvLwLsa",
        "outputId": "5a3bdf96-6b31-451e-9ad1-5c3e96269188"
      },
      "source": [
        "corr.loc[[idx for idx in corr.index if idx != \"TARGET_FLAG\"],[\"TARGET_FLAG\"]]\\\n",
        "    .abs().style\\\n",
        "    .highlight_max(color=\"lightblue\")\\\n",
        "    .highlight_min(color=\"lightgreen\")"
      ],
      "execution_count": 18,
      "outputs": [
        {
          "output_type": "execute_result",
          "data": {
            "text/html": [
              "<style  type=\"text/css\" >\n",
              "#T_e5cba91a_20c2_11ec_8a1c_0242ac1c0002row0_col0{\n",
              "            background-color:  lightblue;\n",
              "        }#T_e5cba91a_20c2_11ec_8a1c_0242ac1c0002row7_col0{\n",
              "            background-color:  lightgreen;\n",
              "        }</style><table id=\"T_e5cba91a_20c2_11ec_8a1c_0242ac1c0002\" ><thead>    <tr>        <th class=\"blank level0\" ></th>        <th class=\"col_heading level0 col0\" >TARGET_FLAG</th>    </tr></thead><tbody>\n",
              "                <tr>\n",
              "                        <th id=\"T_e5cba91a_20c2_11ec_8a1c_0242ac1c0002level0_row0\" class=\"row_heading level0 row0\" >TARGET_AMT</th>\n",
              "                        <td id=\"T_e5cba91a_20c2_11ec_8a1c_0242ac1c0002row0_col0\" class=\"data row0 col0\" >0.534246</td>\n",
              "            </tr>\n",
              "            <tr>\n",
              "                        <th id=\"T_e5cba91a_20c2_11ec_8a1c_0242ac1c0002level0_row1\" class=\"row_heading level0 row1\" >KIDSDRIV</th>\n",
              "                        <td id=\"T_e5cba91a_20c2_11ec_8a1c_0242ac1c0002row1_col0\" class=\"data row1 col0\" >0.103668</td>\n",
              "            </tr>\n",
              "            <tr>\n",
              "                        <th id=\"T_e5cba91a_20c2_11ec_8a1c_0242ac1c0002level0_row2\" class=\"row_heading level0 row2\" >AGE</th>\n",
              "                        <td id=\"T_e5cba91a_20c2_11ec_8a1c_0242ac1c0002row2_col0\" class=\"data row2 col0\" >0.103217</td>\n",
              "            </tr>\n",
              "            <tr>\n",
              "                        <th id=\"T_e5cba91a_20c2_11ec_8a1c_0242ac1c0002level0_row3\" class=\"row_heading level0 row3\" >HOMEKIDS</th>\n",
              "                        <td id=\"T_e5cba91a_20c2_11ec_8a1c_0242ac1c0002row3_col0\" class=\"data row3 col0\" >0.115621</td>\n",
              "            </tr>\n",
              "            <tr>\n",
              "                        <th id=\"T_e5cba91a_20c2_11ec_8a1c_0242ac1c0002level0_row4\" class=\"row_heading level0 row4\" >YOJ</th>\n",
              "                        <td id=\"T_e5cba91a_20c2_11ec_8a1c_0242ac1c0002row4_col0\" class=\"data row4 col0\" >0.070512</td>\n",
              "            </tr>\n",
              "            <tr>\n",
              "                        <th id=\"T_e5cba91a_20c2_11ec_8a1c_0242ac1c0002level0_row5\" class=\"row_heading level0 row5\" >INCOME</th>\n",
              "                        <td id=\"T_e5cba91a_20c2_11ec_8a1c_0242ac1c0002row5_col0\" class=\"data row5 col0\" >0.142008</td>\n",
              "            </tr>\n",
              "            <tr>\n",
              "                        <th id=\"T_e5cba91a_20c2_11ec_8a1c_0242ac1c0002level0_row6\" class=\"row_heading level0 row6\" >HOME_VAL</th>\n",
              "                        <td id=\"T_e5cba91a_20c2_11ec_8a1c_0242ac1c0002row6_col0\" class=\"data row6 col0\" >0.183737</td>\n",
              "            </tr>\n",
              "            <tr>\n",
              "                        <th id=\"T_e5cba91a_20c2_11ec_8a1c_0242ac1c0002level0_row7\" class=\"row_heading level0 row7\" >TRAVTIME</th>\n",
              "                        <td id=\"T_e5cba91a_20c2_11ec_8a1c_0242ac1c0002row7_col0\" class=\"data row7 col0\" >0.048368</td>\n",
              "            </tr>\n",
              "            <tr>\n",
              "                        <th id=\"T_e5cba91a_20c2_11ec_8a1c_0242ac1c0002level0_row8\" class=\"row_heading level0 row8\" >BLUEBOOK</th>\n",
              "                        <td id=\"T_e5cba91a_20c2_11ec_8a1c_0242ac1c0002row8_col0\" class=\"data row8 col0\" >0.103383</td>\n",
              "            </tr>\n",
              "            <tr>\n",
              "                        <th id=\"T_e5cba91a_20c2_11ec_8a1c_0242ac1c0002level0_row9\" class=\"row_heading level0 row9\" >TIF</th>\n",
              "                        <td id=\"T_e5cba91a_20c2_11ec_8a1c_0242ac1c0002row9_col0\" class=\"data row9 col0\" >0.082370</td>\n",
              "            </tr>\n",
              "            <tr>\n",
              "                        <th id=\"T_e5cba91a_20c2_11ec_8a1c_0242ac1c0002level0_row10\" class=\"row_heading level0 row10\" >OLDCLAIM</th>\n",
              "                        <td id=\"T_e5cba91a_20c2_11ec_8a1c_0242ac1c0002row10_col0\" class=\"data row10 col0\" >0.138084</td>\n",
              "            </tr>\n",
              "            <tr>\n",
              "                        <th id=\"T_e5cba91a_20c2_11ec_8a1c_0242ac1c0002level0_row11\" class=\"row_heading level0 row11\" >CLM_FREQ</th>\n",
              "                        <td id=\"T_e5cba91a_20c2_11ec_8a1c_0242ac1c0002row11_col0\" class=\"data row11 col0\" >0.216196</td>\n",
              "            </tr>\n",
              "            <tr>\n",
              "                        <th id=\"T_e5cba91a_20c2_11ec_8a1c_0242ac1c0002level0_row12\" class=\"row_heading level0 row12\" >MVR_PTS</th>\n",
              "                        <td id=\"T_e5cba91a_20c2_11ec_8a1c_0242ac1c0002row12_col0\" class=\"data row12 col0\" >0.219197</td>\n",
              "            </tr>\n",
              "            <tr>\n",
              "                        <th id=\"T_e5cba91a_20c2_11ec_8a1c_0242ac1c0002level0_row13\" class=\"row_heading level0 row13\" >CAR_AGE</th>\n",
              "                        <td id=\"T_e5cba91a_20c2_11ec_8a1c_0242ac1c0002row13_col0\" class=\"data row13 col0\" >0.100651</td>\n",
              "            </tr>\n",
              "    </tbody></table>"
            ],
            "text/plain": [
              "<pandas.io.formats.style.Styler at 0x7fea94ac5e10>"
            ]
          },
          "metadata": {},
          "execution_count": 18
        }
      ]
    },
    {
      "cell_type": "markdown",
      "metadata": {
        "id": "wlN76psOwLsa"
      },
      "source": [
        "#### Interpretation:\n",
        "- Almost all features are correlated with the target variable *TARGET_FLAG* with a correlation coefficient between **0,08 and 0,22** (in absolute value) which means that we can extract significant information from them. \n",
        "- Only the category *TRAVTIME* has an absolute correlation coefficient under 0,05. As it is really slightly under the before mentionned variable, we will keep it.\n",
        "- The feature *TARGET_AMT* is highly correlated with the target variable with a correlation coefficient of **0.53**. Therefore, we will exclude it otherwise the machine learning task will be trivial."
      ]
    },
    {
      "cell_type": "code",
      "metadata": {
        "id": "wnsOZNkFwLsa"
      },
      "source": [
        "X.drop(columns = \"TARGET_AMT\", inplace=True)\n",
        "df_train.drop(columns = \"TARGET_AMT\", inplace=True)\n",
        "num_var.remove(\"TARGET_AMT\")"
      ],
      "execution_count": 19,
      "outputs": []
    },
    {
      "cell_type": "markdown",
      "metadata": {
        "id": "BACNdrk6wLsb"
      },
      "source": [
        "## Checking for missing values"
      ]
    },
    {
      "cell_type": "code",
      "metadata": {
        "scrolled": true,
        "colab": {
          "base_uri": "https://localhost:8080/",
          "height": 519
        },
        "id": "jdySSkUxwLsb",
        "outputId": "b0ea6e4c-add7-42eb-ca6d-37f3af7b5e6e"
      },
      "source": [
        "pd.DataFrame(\n",
        "    data = X.isna().sum() / len(X) * 100,\n",
        "    columns = [\"m_v_pct\"]).style\\\n",
        "    .format(\"{:.2f}%\")\\\n",
        "    .apply(lambda x:[\"color: green\" if x[\"m_v_pct\"] <20 else '' for _ in x], axis=1)\\\n",
        "    .apply(lambda x:[\"color: red\" if x[\"m_v_pct\"] >=20 else '' for _ in x], axis=1)\\\n",
        "    .apply(lambda x:[\"font-weight: bold\" if x[\"m_v_pct\"] >0 else '' for _ in x], axis=1)\\"
      ],
      "execution_count": 20,
      "outputs": [
        {
          "output_type": "execute_result",
          "data": {
            "text/html": [
              "<style  type=\"text/css\" >\n",
              "#T_e5d573e6_20c2_11ec_8a1c_0242ac1c0002row0_col0,#T_e5d573e6_20c2_11ec_8a1c_0242ac1c0002row2_col0,#T_e5d573e6_20c2_11ec_8a1c_0242ac1c0002row5_col0,#T_e5d573e6_20c2_11ec_8a1c_0242ac1c0002row7_col0,#T_e5d573e6_20c2_11ec_8a1c_0242ac1c0002row8_col0,#T_e5d573e6_20c2_11ec_8a1c_0242ac1c0002row9_col0,#T_e5d573e6_20c2_11ec_8a1c_0242ac1c0002row11_col0,#T_e5d573e6_20c2_11ec_8a1c_0242ac1c0002row12_col0,#T_e5d573e6_20c2_11ec_8a1c_0242ac1c0002row13_col0,#T_e5d573e6_20c2_11ec_8a1c_0242ac1c0002row14_col0,#T_e5d573e6_20c2_11ec_8a1c_0242ac1c0002row15_col0,#T_e5d573e6_20c2_11ec_8a1c_0242ac1c0002row16_col0,#T_e5d573e6_20c2_11ec_8a1c_0242ac1c0002row17_col0,#T_e5d573e6_20c2_11ec_8a1c_0242ac1c0002row18_col0,#T_e5d573e6_20c2_11ec_8a1c_0242ac1c0002row19_col0,#T_e5d573e6_20c2_11ec_8a1c_0242ac1c0002row20_col0,#T_e5d573e6_20c2_11ec_8a1c_0242ac1c0002row22_col0{\n",
              "            color:  green;\n",
              "        }#T_e5d573e6_20c2_11ec_8a1c_0242ac1c0002row1_col0,#T_e5d573e6_20c2_11ec_8a1c_0242ac1c0002row3_col0,#T_e5d573e6_20c2_11ec_8a1c_0242ac1c0002row4_col0,#T_e5d573e6_20c2_11ec_8a1c_0242ac1c0002row6_col0,#T_e5d573e6_20c2_11ec_8a1c_0242ac1c0002row10_col0,#T_e5d573e6_20c2_11ec_8a1c_0242ac1c0002row21_col0{\n",
              "            color:  green;\n",
              "            font-weight:  bold;\n",
              "        }</style><table id=\"T_e5d573e6_20c2_11ec_8a1c_0242ac1c0002\" ><thead>    <tr>        <th class=\"blank level0\" ></th>        <th class=\"col_heading level0 col0\" >m_v_pct</th>    </tr></thead><tbody>\n",
              "                <tr>\n",
              "                        <th id=\"T_e5d573e6_20c2_11ec_8a1c_0242ac1c0002level0_row0\" class=\"row_heading level0 row0\" >KIDSDRIV</th>\n",
              "                        <td id=\"T_e5d573e6_20c2_11ec_8a1c_0242ac1c0002row0_col0\" class=\"data row0 col0\" >0.00%</td>\n",
              "            </tr>\n",
              "            <tr>\n",
              "                        <th id=\"T_e5d573e6_20c2_11ec_8a1c_0242ac1c0002level0_row1\" class=\"row_heading level0 row1\" >AGE</th>\n",
              "                        <td id=\"T_e5d573e6_20c2_11ec_8a1c_0242ac1c0002row1_col0\" class=\"data row1 col0\" >0.07%</td>\n",
              "            </tr>\n",
              "            <tr>\n",
              "                        <th id=\"T_e5d573e6_20c2_11ec_8a1c_0242ac1c0002level0_row2\" class=\"row_heading level0 row2\" >HOMEKIDS</th>\n",
              "                        <td id=\"T_e5d573e6_20c2_11ec_8a1c_0242ac1c0002row2_col0\" class=\"data row2 col0\" >0.00%</td>\n",
              "            </tr>\n",
              "            <tr>\n",
              "                        <th id=\"T_e5d573e6_20c2_11ec_8a1c_0242ac1c0002level0_row3\" class=\"row_heading level0 row3\" >YOJ</th>\n",
              "                        <td id=\"T_e5d573e6_20c2_11ec_8a1c_0242ac1c0002row3_col0\" class=\"data row3 col0\" >5.56%</td>\n",
              "            </tr>\n",
              "            <tr>\n",
              "                        <th id=\"T_e5d573e6_20c2_11ec_8a1c_0242ac1c0002level0_row4\" class=\"row_heading level0 row4\" >INCOME</th>\n",
              "                        <td id=\"T_e5d573e6_20c2_11ec_8a1c_0242ac1c0002row4_col0\" class=\"data row4 col0\" >5.45%</td>\n",
              "            </tr>\n",
              "            <tr>\n",
              "                        <th id=\"T_e5d573e6_20c2_11ec_8a1c_0242ac1c0002level0_row5\" class=\"row_heading level0 row5\" >PARENT1</th>\n",
              "                        <td id=\"T_e5d573e6_20c2_11ec_8a1c_0242ac1c0002row5_col0\" class=\"data row5 col0\" >0.00%</td>\n",
              "            </tr>\n",
              "            <tr>\n",
              "                        <th id=\"T_e5d573e6_20c2_11ec_8a1c_0242ac1c0002level0_row6\" class=\"row_heading level0 row6\" >HOME_VAL</th>\n",
              "                        <td id=\"T_e5d573e6_20c2_11ec_8a1c_0242ac1c0002row6_col0\" class=\"data row6 col0\" >5.69%</td>\n",
              "            </tr>\n",
              "            <tr>\n",
              "                        <th id=\"T_e5d573e6_20c2_11ec_8a1c_0242ac1c0002level0_row7\" class=\"row_heading level0 row7\" >MSTATUS</th>\n",
              "                        <td id=\"T_e5d573e6_20c2_11ec_8a1c_0242ac1c0002row7_col0\" class=\"data row7 col0\" >0.00%</td>\n",
              "            </tr>\n",
              "            <tr>\n",
              "                        <th id=\"T_e5d573e6_20c2_11ec_8a1c_0242ac1c0002level0_row8\" class=\"row_heading level0 row8\" >SEX</th>\n",
              "                        <td id=\"T_e5d573e6_20c2_11ec_8a1c_0242ac1c0002row8_col0\" class=\"data row8 col0\" >0.00%</td>\n",
              "            </tr>\n",
              "            <tr>\n",
              "                        <th id=\"T_e5d573e6_20c2_11ec_8a1c_0242ac1c0002level0_row9\" class=\"row_heading level0 row9\" >EDUCATION</th>\n",
              "                        <td id=\"T_e5d573e6_20c2_11ec_8a1c_0242ac1c0002row9_col0\" class=\"data row9 col0\" >0.00%</td>\n",
              "            </tr>\n",
              "            <tr>\n",
              "                        <th id=\"T_e5d573e6_20c2_11ec_8a1c_0242ac1c0002level0_row10\" class=\"row_heading level0 row10\" >JOB</th>\n",
              "                        <td id=\"T_e5d573e6_20c2_11ec_8a1c_0242ac1c0002row10_col0\" class=\"data row10 col0\" >6.45%</td>\n",
              "            </tr>\n",
              "            <tr>\n",
              "                        <th id=\"T_e5d573e6_20c2_11ec_8a1c_0242ac1c0002level0_row11\" class=\"row_heading level0 row11\" >TRAVTIME</th>\n",
              "                        <td id=\"T_e5d573e6_20c2_11ec_8a1c_0242ac1c0002row11_col0\" class=\"data row11 col0\" >0.00%</td>\n",
              "            </tr>\n",
              "            <tr>\n",
              "                        <th id=\"T_e5d573e6_20c2_11ec_8a1c_0242ac1c0002level0_row12\" class=\"row_heading level0 row12\" >CAR_USE</th>\n",
              "                        <td id=\"T_e5d573e6_20c2_11ec_8a1c_0242ac1c0002row12_col0\" class=\"data row12 col0\" >0.00%</td>\n",
              "            </tr>\n",
              "            <tr>\n",
              "                        <th id=\"T_e5d573e6_20c2_11ec_8a1c_0242ac1c0002level0_row13\" class=\"row_heading level0 row13\" >BLUEBOOK</th>\n",
              "                        <td id=\"T_e5d573e6_20c2_11ec_8a1c_0242ac1c0002row13_col0\" class=\"data row13 col0\" >0.00%</td>\n",
              "            </tr>\n",
              "            <tr>\n",
              "                        <th id=\"T_e5d573e6_20c2_11ec_8a1c_0242ac1c0002level0_row14\" class=\"row_heading level0 row14\" >TIF</th>\n",
              "                        <td id=\"T_e5d573e6_20c2_11ec_8a1c_0242ac1c0002row14_col0\" class=\"data row14 col0\" >0.00%</td>\n",
              "            </tr>\n",
              "            <tr>\n",
              "                        <th id=\"T_e5d573e6_20c2_11ec_8a1c_0242ac1c0002level0_row15\" class=\"row_heading level0 row15\" >CAR_TYPE</th>\n",
              "                        <td id=\"T_e5d573e6_20c2_11ec_8a1c_0242ac1c0002row15_col0\" class=\"data row15 col0\" >0.00%</td>\n",
              "            </tr>\n",
              "            <tr>\n",
              "                        <th id=\"T_e5d573e6_20c2_11ec_8a1c_0242ac1c0002level0_row16\" class=\"row_heading level0 row16\" >RED_CAR</th>\n",
              "                        <td id=\"T_e5d573e6_20c2_11ec_8a1c_0242ac1c0002row16_col0\" class=\"data row16 col0\" >0.00%</td>\n",
              "            </tr>\n",
              "            <tr>\n",
              "                        <th id=\"T_e5d573e6_20c2_11ec_8a1c_0242ac1c0002level0_row17\" class=\"row_heading level0 row17\" >OLDCLAIM</th>\n",
              "                        <td id=\"T_e5d573e6_20c2_11ec_8a1c_0242ac1c0002row17_col0\" class=\"data row17 col0\" >0.00%</td>\n",
              "            </tr>\n",
              "            <tr>\n",
              "                        <th id=\"T_e5d573e6_20c2_11ec_8a1c_0242ac1c0002level0_row18\" class=\"row_heading level0 row18\" >CLM_FREQ</th>\n",
              "                        <td id=\"T_e5d573e6_20c2_11ec_8a1c_0242ac1c0002row18_col0\" class=\"data row18 col0\" >0.00%</td>\n",
              "            </tr>\n",
              "            <tr>\n",
              "                        <th id=\"T_e5d573e6_20c2_11ec_8a1c_0242ac1c0002level0_row19\" class=\"row_heading level0 row19\" >REVOKED</th>\n",
              "                        <td id=\"T_e5d573e6_20c2_11ec_8a1c_0242ac1c0002row19_col0\" class=\"data row19 col0\" >0.00%</td>\n",
              "            </tr>\n",
              "            <tr>\n",
              "                        <th id=\"T_e5d573e6_20c2_11ec_8a1c_0242ac1c0002level0_row20\" class=\"row_heading level0 row20\" >MVR_PTS</th>\n",
              "                        <td id=\"T_e5d573e6_20c2_11ec_8a1c_0242ac1c0002row20_col0\" class=\"data row20 col0\" >0.00%</td>\n",
              "            </tr>\n",
              "            <tr>\n",
              "                        <th id=\"T_e5d573e6_20c2_11ec_8a1c_0242ac1c0002level0_row21\" class=\"row_heading level0 row21\" >CAR_AGE</th>\n",
              "                        <td id=\"T_e5d573e6_20c2_11ec_8a1c_0242ac1c0002row21_col0\" class=\"data row21 col0\" >6.25%</td>\n",
              "            </tr>\n",
              "            <tr>\n",
              "                        <th id=\"T_e5d573e6_20c2_11ec_8a1c_0242ac1c0002level0_row22\" class=\"row_heading level0 row22\" >URBANICITY</th>\n",
              "                        <td id=\"T_e5d573e6_20c2_11ec_8a1c_0242ac1c0002row22_col0\" class=\"data row22 col0\" >0.00%</td>\n",
              "            </tr>\n",
              "    </tbody></table>"
            ],
            "text/plain": [
              "<pandas.io.formats.style.Styler at 0x7fea94b40450>"
            ]
          },
          "metadata": {},
          "execution_count": 20
        }
      ]
    },
    {
      "cell_type": "markdown",
      "metadata": {
        "id": "EoD386PSwLsb"
      },
      "source": [
        "#### Interpretation:\n",
        "- All features have ratios of missing values under 10%. Hence, there is no particular problem on this specific point and no feature should be removed for lack of enough non-missing values."
      ]
    },
    {
      "cell_type": "markdown",
      "metadata": {
        "id": "e2F004HUwLsb"
      },
      "source": [
        "# Machine learning"
      ]
    },
    {
      "cell_type": "markdown",
      "metadata": {
        "id": "-GXhVEAGwLsc"
      },
      "source": [
        "## Baseline model"
      ]
    },
    {
      "cell_type": "code",
      "metadata": {
        "colab": {
          "base_uri": "https://localhost:8080/"
        },
        "id": "jA02P104wLsc",
        "outputId": "80254f01-9343-44d8-b10b-915217b82cb6"
      },
      "source": [
        "X_train, X_test, y_train,y_test = train_test_split(X, y, test_size=0.3)\n",
        "\n",
        "num_transformer = Pipeline(\n",
        "    steps=[\n",
        "        ('imputer', SimpleImputer(strategy='median')),\n",
        "        ('scaler', StandardScaler())\n",
        "    ])\n",
        "\n",
        "cat_transformer = Pipeline(steps=[\n",
        "    ('imputer', SimpleImputer(strategy='constant', fill_value='missing')),\n",
        "    ('onehot', OneHotEncoder())])\n",
        "\n",
        "preprocessor = ColumnTransformer(\n",
        "    transformers=[\n",
        "        ('num', num_transformer, num_var),\n",
        "        ('cat', cat_transformer, cat_var)])\n",
        "\n",
        "clf_1 = Pipeline(\n",
        "    steps=[\n",
        "        ('preprocessor', preprocessor),\n",
        "        ('classifier', RandomForestClassifier()),\n",
        "    ])\n",
        "\n",
        "clf_1.fit(X_train, y_train)"
      ],
      "execution_count": 21,
      "outputs": [
        {
          "output_type": "execute_result",
          "data": {
            "text/plain": [
              "Pipeline(steps=[('preprocessor',\n",
              "                 ColumnTransformer(transformers=[('num',\n",
              "                                                  Pipeline(steps=[('imputer',\n",
              "                                                                   SimpleImputer(strategy='median')),\n",
              "                                                                  ('scaler',\n",
              "                                                                   StandardScaler())]),\n",
              "                                                  ['KIDSDRIV', 'AGE',\n",
              "                                                   'HOMEKIDS', 'YOJ', 'INCOME',\n",
              "                                                   'HOME_VAL', 'TRAVTIME',\n",
              "                                                   'BLUEBOOK', 'TIF',\n",
              "                                                   'OLDCLAIM', 'CLM_FREQ',\n",
              "                                                   'MVR_PTS', 'CAR_AGE']),\n",
              "                                                 ('cat',\n",
              "                                                  Pipeline(steps=[('imputer',\n",
              "                                                                   SimpleImputer(fill_value='missing',\n",
              "                                                                                 strategy='constant')),\n",
              "                                                                  ('onehot',\n",
              "                                                                   OneHotEncoder())]),\n",
              "                                                  ['PARENT1', 'MSTATUS', 'SEX',\n",
              "                                                   'EDUCATION', 'JOB',\n",
              "                                                   'CAR_USE', 'CAR_TYPE',\n",
              "                                                   'RED_CAR', 'REVOKED',\n",
              "                                                   'URBANICITY'])])),\n",
              "                ('classifier', RandomForestClassifier())])"
            ]
          },
          "metadata": {},
          "execution_count": 21
        }
      ]
    },
    {
      "cell_type": "code",
      "metadata": {
        "colab": {
          "base_uri": "https://localhost:8080/"
        },
        "id": "_QGSJj9fwLsc",
        "outputId": "c67fe609-fbf6-4d5a-d7eb-609097ea85a6"
      },
      "source": [
        "preds = clf_1.predict(X_test)\n",
        "print(f\"balanced_accuracy_score: {round(f1_score(preds, y_test),3)}\")\n",
        "print(f\"balanced_accuracy_score: {round(balanced_accuracy_score(preds, y_test)*100,2)}%\")\n",
        "print(f\"accuracy_score: {round(accuracy_score(preds, y_test)*100,2)}%\")"
      ],
      "execution_count": 22,
      "outputs": [
        {
          "output_type": "stream",
          "name": "stdout",
          "text": [
            "balanced_accuracy_score: 0.482\n",
            "balanced_accuracy_score: 73.96%\n",
            "accuracy_score: 78.44%\n"
          ]
        }
      ]
    },
    {
      "cell_type": "code",
      "metadata": {
        "colab": {
          "base_uri": "https://localhost:8080/",
          "height": 206
        },
        "id": "UrUpqlIjwLsc",
        "outputId": "7f29adc5-3269-41f7-b5d4-0359b992d860"
      },
      "source": [
        "enc_cat_features = preprocessor.named_transformers_['cat']['onehot'].get_feature_names(cat_var)\n",
        "labels = np.concatenate([num_var, enc_cat_features])\n",
        "ft_imp = pd.DataFrame(\n",
        "    data = {\n",
        "        \"ft_name\" : labels,\n",
        "        \"ft_importance\" :clf_1.get_params()['classifier'].feature_importances_,\n",
        "    }).sort_values(by=\"ft_importance\", ascending=False)\n",
        "\n",
        "ft_imp.head()"
      ],
      "execution_count": 23,
      "outputs": [
        {
          "output_type": "execute_result",
          "data": {
            "text/html": [
              "<div>\n",
              "<style scoped>\n",
              "    .dataframe tbody tr th:only-of-type {\n",
              "        vertical-align: middle;\n",
              "    }\n",
              "\n",
              "    .dataframe tbody tr th {\n",
              "        vertical-align: top;\n",
              "    }\n",
              "\n",
              "    .dataframe thead th {\n",
              "        text-align: right;\n",
              "    }\n",
              "</style>\n",
              "<table border=\"1\" class=\"dataframe\">\n",
              "  <thead>\n",
              "    <tr style=\"text-align: right;\">\n",
              "      <th></th>\n",
              "      <th>ft_name</th>\n",
              "      <th>ft_importance</th>\n",
              "    </tr>\n",
              "  </thead>\n",
              "  <tbody>\n",
              "    <tr>\n",
              "      <th>7</th>\n",
              "      <td>BLUEBOOK</td>\n",
              "      <td>0.080234</td>\n",
              "    </tr>\n",
              "    <tr>\n",
              "      <th>4</th>\n",
              "      <td>INCOME</td>\n",
              "      <td>0.079244</td>\n",
              "    </tr>\n",
              "    <tr>\n",
              "      <th>6</th>\n",
              "      <td>TRAVTIME</td>\n",
              "      <td>0.070437</td>\n",
              "    </tr>\n",
              "    <tr>\n",
              "      <th>1</th>\n",
              "      <td>AGE</td>\n",
              "      <td>0.068270</td>\n",
              "    </tr>\n",
              "    <tr>\n",
              "      <th>5</th>\n",
              "      <td>HOME_VAL</td>\n",
              "      <td>0.067871</td>\n",
              "    </tr>\n",
              "  </tbody>\n",
              "</table>\n",
              "</div>"
            ],
            "text/plain": [
              "    ft_name  ft_importance\n",
              "7  BLUEBOOK       0.080234\n",
              "4    INCOME       0.079244\n",
              "6  TRAVTIME       0.070437\n",
              "1       AGE       0.068270\n",
              "5  HOME_VAL       0.067871"
            ]
          },
          "metadata": {},
          "execution_count": 23
        }
      ]
    },
    {
      "cell_type": "code",
      "metadata": {
        "colab": {
          "base_uri": "https://localhost:8080/",
          "height": 302
        },
        "id": "NBMvA4p3wLsd",
        "outputId": "a684311c-d296-4d46-ba76-f8e47f169ab2"
      },
      "source": [
        "sns.barplot(y=\"ft_name\", x=\"ft_importance\", data = ft_imp.iloc[:10,:], orient = \"h\")"
      ],
      "execution_count": 24,
      "outputs": [
        {
          "output_type": "execute_result",
          "data": {
            "text/plain": [
              "<matplotlib.axes._subplots.AxesSubplot at 0x7fea9466b9d0>"
            ]
          },
          "metadata": {},
          "execution_count": 24
        },
        {
          "output_type": "display_data",
          "data": {
            "image/png": "[encoded data removed]",
            "text/plain": [
              "<Figure size 432x288 with 1 Axes>"
            ]
          },
          "metadata": {
            "needs_background": "light"
          }
        }
      ]
    },
    {
      "cell_type": "markdown",
      "metadata": {
        "id": "kv3t9Cjrwjx9"
      },
      "source": [
        "## Let's try to improve the results !\n",
        "Use flaml library to get perform model selection and hyperparameter tuning"
      ]
    },
    {
      "cell_type": "code",
      "metadata": {
        "colab": {
          "base_uri": "https://localhost:8080/"
        },
        "id": "3AczXWfnw_Kk",
        "outputId": "6441f908-6312-47e7-e7a5-a39e530cb0bc"
      },
      "source": [
        "automl = AutoML()\n",
        "\n",
        "# Specify automl goal and constraint\n",
        "y_train_v_c = y_train.value_counts()\n",
        "fit_settings = {\n",
        "    \"automl_model__time_budget\": 600,  # in seconds\n",
        "    \"automl_model__metric\": 'f1',\n",
        "    \"automl_model__task\": 'classification',\n",
        "    # \"automl_model__sample_weight\" : y_train.apply(lambda val:1/y_train_v_c[val]).values,\n",
        "    \"automl_model__eval_method\" : \"cv\"\n",
        "}\n",
        "\n",
        "# Train with labeled input data\n",
        "clf_2 = Pipeline(\n",
        "    steps=[\n",
        "        ('preprocessor', preprocessor),\n",
        "        ('automl_model', automl),])\n",
        "\n",
        "clf_2.fit(X_train, y_train, **fit_settings)"
      ],
      "execution_count": 25,
      "outputs": [
        {
          "output_type": "stream",
          "name": "stderr",
          "text": [
            "[flaml.automl: 09-29 01:16:40] {1432} INFO - Evaluation method: cv\n",
            "[flaml.automl: 09-29 01:16:40] {1478} INFO - Minimizing error metric: 1-f1\n",
            "[flaml.automl: 09-29 01:16:40] {1515} INFO - List of ML learners in AutoML Run: ['lgbm', 'rf', 'catboost', 'xgboost', 'extra_tree', 'lrl1']\n",
            "[flaml.automl: 09-29 01:16:40] {1748} INFO - iteration 0, current learner lgbm\n",
            "[flaml.automl: 09-29 01:16:41] {1866} INFO - Estimated sufficient time budget=1732s. Estimated necessary time budget=31s.\n",
            "[flaml.automl: 09-29 01:16:41] {1944} INFO -  at 0.2s,\testimator lgbm's best error=1.0000,\tbest estimator lgbm's best error=1.0000\n",
            "[flaml.automl: 09-29 01:16:41] {1748} INFO - iteration 1, current learner lgbm\n",
            "[flaml.automl: 09-29 01:16:41] {1944} INFO -  at 0.4s,\testimator lgbm's best error=1.0000,\tbest estimator lgbm's best error=1.0000\n",
            "[flaml.automl: 09-29 01:16:41] {1748} INFO - iteration 2, current learner lgbm\n",
            "[flaml.automl: 09-29 01:16:41] {1944} INFO -  at 0.5s,\testimator lgbm's best error=1.0000,\tbest estimator lgbm's best error=1.0000\n",
            "[flaml.automl: 09-29 01:16:41] {1748} INFO - iteration 3, current learner xgboost\n",
            "[flaml.automl: 09-29 01:16:41] {1944} INFO -  at 0.7s,\testimator xgboost's best error=1.0000,\tbest estimator lgbm's best error=1.0000\n",
            "[flaml.automl: 09-29 01:16:41] {1748} INFO - iteration 4, current learner lgbm\n",
            "[flaml.automl: 09-29 01:16:41] {1944} INFO -  at 0.9s,\testimator lgbm's best error=0.7817,\tbest estimator lgbm's best error=0.7817\n",
            "[flaml.automl: 09-29 01:16:41] {1748} INFO - iteration 5, current learner xgboost\n",
            "[flaml.automl: 09-29 01:16:42] {1944} INFO -  at 1.1s,\testimator xgboost's best error=1.0000,\tbest estimator lgbm's best error=0.7817\n",
            "[flaml.automl: 09-29 01:16:42] {1748} INFO - iteration 6, current learner lgbm\n",
            "[flaml.automl: 09-29 01:16:42] {1944} INFO -  at 1.3s,\testimator lgbm's best error=0.6532,\tbest estimator lgbm's best error=0.6532\n",
            "[flaml.automl: 09-29 01:16:42] {1748} INFO - iteration 7, current learner lgbm\n",
            "[flaml.automl: 09-29 01:16:42] {1944} INFO -  at 1.6s,\testimator lgbm's best error=0.6532,\tbest estimator lgbm's best error=0.6532\n",
            "[flaml.automl: 09-29 01:16:42] {1748} INFO - iteration 8, current learner lgbm\n",
            "[flaml.automl: 09-29 01:16:42] {1944} INFO -  at 1.7s,\testimator lgbm's best error=0.6532,\tbest estimator lgbm's best error=0.6532\n",
            "[flaml.automl: 09-29 01:16:42] {1748} INFO - iteration 9, current learner lgbm\n",
            "[flaml.automl: 09-29 01:16:42] {1944} INFO -  at 2.0s,\testimator lgbm's best error=0.6250,\tbest estimator lgbm's best error=0.6250\n",
            "[flaml.automl: 09-29 01:16:42] {1748} INFO - iteration 10, current learner xgboost\n",
            "[flaml.automl: 09-29 01:16:43] {1944} INFO -  at 2.2s,\testimator xgboost's best error=0.9620,\tbest estimator lgbm's best error=0.6250\n",
            "[flaml.automl: 09-29 01:16:43] {1748} INFO - iteration 11, current learner extra_tree\n",
            "[flaml.automl: 09-29 01:16:44] {1944} INFO -  at 3.4s,\testimator extra_tree's best error=1.0000,\tbest estimator lgbm's best error=0.6250\n",
            "[flaml.automl: 09-29 01:16:44] {1748} INFO - iteration 12, current learner rf\n",
            "[flaml.automl: 09-29 01:16:45] {1944} INFO -  at 4.5s,\testimator rf's best error=0.9987,\tbest estimator lgbm's best error=0.6250\n",
            "[flaml.automl: 09-29 01:16:45] {1748} INFO - iteration 13, current learner rf\n",
            "[flaml.automl: 09-29 01:16:46] {1944} INFO -  at 5.7s,\testimator rf's best error=0.6642,\tbest estimator lgbm's best error=0.6250\n",
            "[flaml.automl: 09-29 01:16:46] {1748} INFO - iteration 14, current learner lgbm\n",
            "[flaml.automl: 09-29 01:16:46] {1944} INFO -  at 5.9s,\testimator lgbm's best error=0.6250,\tbest estimator lgbm's best error=0.6250\n",
            "[flaml.automl: 09-29 01:16:46] {1748} INFO - iteration 15, current learner rf\n",
            "[flaml.automl: 09-29 01:16:47] {1944} INFO -  at 7.1s,\testimator rf's best error=0.6642,\tbest estimator lgbm's best error=0.6250\n",
            "[flaml.automl: 09-29 01:16:47] {1748} INFO - iteration 16, current learner lgbm\n",
            "[flaml.automl: 09-29 01:16:48] {1944} INFO -  at 7.8s,\testimator lgbm's best error=0.4813,\tbest estimator lgbm's best error=0.4813\n",
            "[flaml.automl: 09-29 01:16:48] {1748} INFO - iteration 17, current learner extra_tree\n",
            "[flaml.automl: 09-29 01:16:49] {1944} INFO -  at 9.0s,\testimator extra_tree's best error=0.6490,\tbest estimator lgbm's best error=0.4813\n",
            "[flaml.automl: 09-29 01:16:49] {1748} INFO - iteration 18, current learner lgbm\n",
            "[flaml.automl: 09-29 01:16:50] {1944} INFO -  at 9.9s,\testimator lgbm's best error=0.4813,\tbest estimator lgbm's best error=0.4813\n",
            "[flaml.automl: 09-29 01:16:50] {1748} INFO - iteration 19, current learner extra_tree\n",
            "[flaml.automl: 09-29 01:16:51] {1944} INFO -  at 11.1s,\testimator extra_tree's best error=0.6490,\tbest estimator lgbm's best error=0.4813\n",
            "[flaml.automl: 09-29 01:16:51] {1748} INFO - iteration 20, current learner lgbm\n",
            "[flaml.automl: 09-29 01:16:52] {1944} INFO -  at 11.6s,\testimator lgbm's best error=0.4813,\tbest estimator lgbm's best error=0.4813\n",
            "[flaml.automl: 09-29 01:16:52] {1748} INFO - iteration 21, current learner rf\n",
            "[flaml.automl: 09-29 01:16:53] {1944} INFO -  at 12.9s,\testimator rf's best error=0.6642,\tbest estimator lgbm's best error=0.4813\n",
            "[flaml.automl: 09-29 01:16:53] {1748} INFO - iteration 22, current learner lgbm\n",
            "[flaml.automl: 09-29 01:16:54] {1944} INFO -  at 13.4s,\testimator lgbm's best error=0.4813,\tbest estimator lgbm's best error=0.4813\n",
            "[flaml.automl: 09-29 01:16:54] {1748} INFO - iteration 23, current learner lgbm\n",
            "[flaml.automl: 09-29 01:16:55] {1944} INFO -  at 14.3s,\testimator lgbm's best error=0.4813,\tbest estimator lgbm's best error=0.4813\n",
            "[flaml.automl: 09-29 01:16:55] {1748} INFO - iteration 24, current learner extra_tree\n",
            "[flaml.automl: 09-29 01:16:56] {1944} INFO -  at 15.5s,\testimator extra_tree's best error=0.6490,\tbest estimator lgbm's best error=0.4813\n",
            "[flaml.automl: 09-29 01:16:56] {1748} INFO - iteration 25, current learner catboost\n",
            "[flaml.automl: 09-29 01:16:59] {1944} INFO -  at 18.1s,\testimator catboost's best error=0.5159,\tbest estimator lgbm's best error=0.4813\n",
            "[flaml.automl: 09-29 01:16:59] {1748} INFO - iteration 26, current learner extra_tree\n",
            "[flaml.automl: 09-29 01:17:00] {1944} INFO -  at 19.3s,\testimator extra_tree's best error=0.6478,\tbest estimator lgbm's best error=0.4813\n",
            "[flaml.automl: 09-29 01:17:00] {1748} INFO - iteration 27, current learner lgbm\n",
            "[flaml.automl: 09-29 01:17:01] {1944} INFO -  at 20.6s,\testimator lgbm's best error=0.4813,\tbest estimator lgbm's best error=0.4813\n",
            "[flaml.automl: 09-29 01:17:01] {1748} INFO - iteration 28, current learner catboost\n",
            "[flaml.automl: 09-29 01:17:04] {1944} INFO -  at 23.5s,\testimator catboost's best error=0.5086,\tbest estimator lgbm's best error=0.4813\n",
            "[flaml.automl: 09-29 01:17:04] {1748} INFO - iteration 29, current learner xgboost\n",
            "[flaml.automl: 09-29 01:17:04] {1944} INFO -  at 23.6s,\testimator xgboost's best error=0.5930,\tbest estimator lgbm's best error=0.4813\n",
            "[flaml.automl: 09-29 01:17:04] {1748} INFO - iteration 30, current learner xgboost\n",
            "[flaml.automl: 09-29 01:17:04] {1944} INFO -  at 23.8s,\testimator xgboost's best error=0.5930,\tbest estimator lgbm's best error=0.4813\n",
            "[flaml.automl: 09-29 01:17:04] {1748} INFO - iteration 31, current learner rf\n",
            "[flaml.automl: 09-29 01:17:05] {1944} INFO -  at 25.0s,\testimator rf's best error=0.6590,\tbest estimator lgbm's best error=0.4813\n",
            "[flaml.automl: 09-29 01:17:05] {1748} INFO - iteration 32, current learner lgbm\n",
            "[flaml.automl: 09-29 01:17:06] {1944} INFO -  at 25.4s,\testimator lgbm's best error=0.4813,\tbest estimator lgbm's best error=0.4813\n",
            "[flaml.automl: 09-29 01:17:06] {1748} INFO - iteration 33, current learner xgboost\n",
            "[flaml.automl: 09-29 01:17:06] {1944} INFO -  at 25.6s,\testimator xgboost's best error=0.5930,\tbest estimator lgbm's best error=0.4813\n",
            "[flaml.automl: 09-29 01:17:06] {1748} INFO - iteration 34, current learner xgboost\n",
            "[flaml.automl: 09-29 01:17:06] {1944} INFO -  at 25.9s,\testimator xgboost's best error=0.4942,\tbest estimator lgbm's best error=0.4813\n",
            "[flaml.automl: 09-29 01:17:06] {1748} INFO - iteration 35, current learner lgbm\n",
            "[flaml.automl: 09-29 01:17:07] {1944} INFO -  at 27.0s,\testimator lgbm's best error=0.4813,\tbest estimator lgbm's best error=0.4813\n",
            "[flaml.automl: 09-29 01:17:07] {1748} INFO - iteration 36, current learner xgboost\n",
            "[flaml.automl: 09-29 01:17:08] {1944} INFO -  at 27.3s,\testimator xgboost's best error=0.4820,\tbest estimator lgbm's best error=0.4813\n",
            "[flaml.automl: 09-29 01:17:08] {1748} INFO - iteration 37, current learner xgboost\n",
            "[flaml.automl: 09-29 01:17:08] {1944} INFO -  at 27.6s,\testimator xgboost's best error=0.4820,\tbest estimator lgbm's best error=0.4813\n",
            "[flaml.automl: 09-29 01:17:08] {1748} INFO - iteration 38, current learner xgboost\n",
            "[flaml.automl: 09-29 01:17:08] {1944} INFO -  at 27.9s,\testimator xgboost's best error=0.4820,\tbest estimator lgbm's best error=0.4813\n",
            "[flaml.automl: 09-29 01:17:08] {1748} INFO - iteration 39, current learner xgboost\n",
            "[flaml.automl: 09-29 01:17:09] {1944} INFO -  at 28.3s,\testimator xgboost's best error=0.4820,\tbest estimator lgbm's best error=0.4813\n",
            "[flaml.automl: 09-29 01:17:09] {1748} INFO - iteration 40, current learner xgboost\n",
            "[flaml.automl: 09-29 01:17:09] {1944} INFO -  at 28.5s,\testimator xgboost's best error=0.4820,\tbest estimator lgbm's best error=0.4813\n",
            "[flaml.automl: 09-29 01:17:09] {1748} INFO - iteration 41, current learner xgboost\n",
            "[flaml.automl: 09-29 01:17:09] {1944} INFO -  at 28.9s,\testimator xgboost's best error=0.4820,\tbest estimator lgbm's best error=0.4813\n",
            "[flaml.automl: 09-29 01:17:09] {1748} INFO - iteration 42, current learner xgboost\n",
            "[flaml.automl: 09-29 01:17:10] {1944} INFO -  at 29.1s,\testimator xgboost's best error=0.4820,\tbest estimator lgbm's best error=0.4813\n",
            "[flaml.automl: 09-29 01:17:10] {1748} INFO - iteration 43, current learner lgbm\n",
            "[flaml.automl: 09-29 01:17:10] {1944} INFO -  at 29.7s,\testimator lgbm's best error=0.4813,\tbest estimator lgbm's best error=0.4813\n",
            "[flaml.automl: 09-29 01:17:10] {1748} INFO - iteration 44, current learner xgboost\n",
            "[flaml.automl: 09-29 01:17:10] {1944} INFO -  at 30.0s,\testimator xgboost's best error=0.4820,\tbest estimator lgbm's best error=0.4813\n",
            "[flaml.automl: 09-29 01:17:10] {1748} INFO - iteration 45, current learner xgboost\n",
            "[flaml.automl: 09-29 01:17:11] {1944} INFO -  at 30.3s,\testimator xgboost's best error=0.4820,\tbest estimator lgbm's best error=0.4813\n",
            "[flaml.automl: 09-29 01:17:11] {1748} INFO - iteration 46, current learner xgboost\n",
            "[flaml.automl: 09-29 01:17:11] {1944} INFO -  at 30.7s,\testimator xgboost's best error=0.4820,\tbest estimator lgbm's best error=0.4813\n",
            "[flaml.automl: 09-29 01:17:11] {1748} INFO - iteration 47, current learner lgbm\n",
            "[flaml.automl: 09-29 01:17:12] {1944} INFO -  at 31.1s,\testimator lgbm's best error=0.4813,\tbest estimator lgbm's best error=0.4813\n",
            "[flaml.automl: 09-29 01:17:12] {1748} INFO - iteration 48, current learner xgboost\n",
            "[flaml.automl: 09-29 01:17:12] {1944} INFO -  at 31.4s,\testimator xgboost's best error=0.4820,\tbest estimator lgbm's best error=0.4813\n",
            "[flaml.automl: 09-29 01:17:12] {1748} INFO - iteration 49, current learner lgbm\n",
            "[flaml.automl: 09-29 01:17:13] {1944} INFO -  at 32.7s,\testimator lgbm's best error=0.4813,\tbest estimator lgbm's best error=0.4813\n",
            "[flaml.automl: 09-29 01:17:13] {1748} INFO - iteration 50, current learner xgboost\n",
            "[flaml.automl: 09-29 01:17:14] {1944} INFO -  at 33.3s,\testimator xgboost's best error=0.4805,\tbest estimator xgboost's best error=0.4805\n",
            "[flaml.automl: 09-29 01:17:14] {1748} INFO - iteration 51, current learner xgboost\n",
            "[flaml.automl: 09-29 01:17:14] {1944} INFO -  at 33.6s,\testimator xgboost's best error=0.4805,\tbest estimator xgboost's best error=0.4805\n",
            "[flaml.automl: 09-29 01:17:14] {1748} INFO - iteration 52, current learner catboost\n",
            "[flaml.automl: 09-29 01:17:16] {1944} INFO -  at 35.9s,\testimator catboost's best error=0.5086,\tbest estimator xgboost's best error=0.4805\n",
            "[flaml.automl: 09-29 01:17:16] {1748} INFO - iteration 53, current learner rf\n",
            "[flaml.automl: 09-29 01:17:18] {1944} INFO -  at 37.3s,\testimator rf's best error=0.6590,\tbest estimator xgboost's best error=0.4805\n",
            "[flaml.automl: 09-29 01:17:18] {1748} INFO - iteration 54, current learner lgbm\n",
            "[flaml.automl: 09-29 01:17:19] {1944} INFO -  at 38.1s,\testimator lgbm's best error=0.4813,\tbest estimator xgboost's best error=0.4805\n",
            "[flaml.automl: 09-29 01:17:19] {1748} INFO - iteration 55, current learner lgbm\n",
            "[flaml.automl: 09-29 01:17:19] {1944} INFO -  at 38.7s,\testimator lgbm's best error=0.4813,\tbest estimator xgboost's best error=0.4805\n",
            "[flaml.automl: 09-29 01:17:19] {1748} INFO - iteration 56, current learner xgboost\n",
            "[flaml.automl: 09-29 01:17:20] {1944} INFO -  at 39.9s,\testimator xgboost's best error=0.4640,\tbest estimator xgboost's best error=0.4640\n",
            "[flaml.automl: 09-29 01:17:20] {1748} INFO - iteration 57, current learner xgboost\n",
            "[flaml.automl: 09-29 01:17:21] {1944} INFO -  at 40.8s,\testimator xgboost's best error=0.4640,\tbest estimator xgboost's best error=0.4640\n",
            "[flaml.automl: 09-29 01:17:21] {1748} INFO - iteration 58, current learner xgboost\n",
            "[flaml.automl: 09-29 01:17:23] {1944} INFO -  at 42.1s,\testimator xgboost's best error=0.4640,\tbest estimator xgboost's best error=0.4640\n",
            "[flaml.automl: 09-29 01:17:23] {1748} INFO - iteration 59, current learner xgboost\n",
            "[flaml.automl: 09-29 01:17:24] {1944} INFO -  at 43.1s,\testimator xgboost's best error=0.4640,\tbest estimator xgboost's best error=0.4640\n",
            "[flaml.automl: 09-29 01:17:24] {1748} INFO - iteration 60, current learner lgbm\n",
            "[flaml.automl: 09-29 01:17:24] {1944} INFO -  at 43.8s,\testimator lgbm's best error=0.4813,\tbest estimator xgboost's best error=0.4640\n",
            "[flaml.automl: 09-29 01:17:24] {1748} INFO - iteration 61, current learner xgboost\n",
            "[flaml.automl: 09-29 01:17:26] {1944} INFO -  at 45.6s,\testimator xgboost's best error=0.4640,\tbest estimator xgboost's best error=0.4640\n",
            "[flaml.automl: 09-29 01:17:26] {1748} INFO - iteration 62, current learner lgbm\n",
            "[flaml.automl: 09-29 01:17:27] {1944} INFO -  at 46.4s,\testimator lgbm's best error=0.4813,\tbest estimator xgboost's best error=0.4640\n",
            "[flaml.automl: 09-29 01:17:27] {1748} INFO - iteration 63, current learner xgboost\n",
            "[flaml.automl: 09-29 01:17:27] {1944} INFO -  at 46.9s,\testimator xgboost's best error=0.4640,\tbest estimator xgboost's best error=0.4640\n",
            "[flaml.automl: 09-29 01:17:27] {1748} INFO - iteration 64, current learner xgboost\n",
            "[flaml.automl: 09-29 01:17:30] {1944} INFO -  at 49.4s,\testimator xgboost's best error=0.4640,\tbest estimator xgboost's best error=0.4640\n",
            "[flaml.automl: 09-29 01:17:30] {1748} INFO - iteration 65, current learner lgbm\n",
            "[flaml.automl: 09-29 01:17:31] {1944} INFO -  at 50.6s,\testimator lgbm's best error=0.4813,\tbest estimator xgboost's best error=0.4640\n",
            "[flaml.automl: 09-29 01:17:31] {1748} INFO - iteration 66, current learner catboost\n",
            "[flaml.automl: 09-29 01:17:35] {1944} INFO -  at 54.5s,\testimator catboost's best error=0.5086,\tbest estimator xgboost's best error=0.4640\n",
            "[flaml.automl: 09-29 01:17:35] {1748} INFO - iteration 67, current learner xgboost\n",
            "[flaml.automl: 09-29 01:17:36] {1944} INFO -  at 55.4s,\testimator xgboost's best error=0.4640,\tbest estimator xgboost's best error=0.4640\n",
            "[flaml.automl: 09-29 01:17:36] {1748} INFO - iteration 68, current learner catboost\n",
            "[flaml.automl: 09-29 01:17:38] {1944} INFO -  at 57.4s,\testimator catboost's best error=0.5086,\tbest estimator xgboost's best error=0.4640\n",
            "[flaml.automl: 09-29 01:17:38] {1748} INFO - iteration 69, current learner lgbm\n",
            "[flaml.automl: 09-29 01:17:38] {1944} INFO -  at 57.9s,\testimator lgbm's best error=0.4813,\tbest estimator xgboost's best error=0.4640\n",
            "[flaml.automl: 09-29 01:17:38] {1748} INFO - iteration 70, current learner xgboost\n",
            "[flaml.automl: 09-29 01:17:39] {1944} INFO -  at 59.1s,\testimator xgboost's best error=0.4640,\tbest estimator xgboost's best error=0.4640\n",
            "[flaml.automl: 09-29 01:17:39] {1748} INFO - iteration 71, current learner xgboost\n",
            "[flaml.automl: 09-29 01:17:40] {1944} INFO -  at 59.5s,\testimator xgboost's best error=0.4640,\tbest estimator xgboost's best error=0.4640\n",
            "[flaml.automl: 09-29 01:17:40] {1748} INFO - iteration 72, current learner xgboost\n",
            "[flaml.automl: 09-29 01:17:44] {1944} INFO -  at 63.6s,\testimator xgboost's best error=0.4640,\tbest estimator xgboost's best error=0.4640\n",
            "[flaml.automl: 09-29 01:17:44] {1748} INFO - iteration 73, current learner xgboost\n",
            "[flaml.automl: 09-29 01:17:45] {1944} INFO -  at 64.6s,\testimator xgboost's best error=0.4640,\tbest estimator xgboost's best error=0.4640\n",
            "[flaml.automl: 09-29 01:17:45] {1748} INFO - iteration 74, current learner xgboost\n",
            "[flaml.automl: 09-29 01:17:46] {1944} INFO -  at 65.6s,\testimator xgboost's best error=0.4640,\tbest estimator xgboost's best error=0.4640\n",
            "[flaml.automl: 09-29 01:17:46] {1748} INFO - iteration 75, current learner xgboost\n",
            "[flaml.automl: 09-29 01:17:48] {1944} INFO -  at 67.1s,\testimator xgboost's best error=0.4640,\tbest estimator xgboost's best error=0.4640\n",
            "[flaml.automl: 09-29 01:17:48] {1748} INFO - iteration 76, current learner lgbm\n",
            "[flaml.automl: 09-29 01:17:49] {1944} INFO -  at 68.2s,\testimator lgbm's best error=0.4592,\tbest estimator lgbm's best error=0.4592\n",
            "[flaml.automl: 09-29 01:17:49] {1748} INFO - iteration 77, current learner lgbm\n",
            "[flaml.automl: 09-29 01:17:49] {1944} INFO -  at 69.0s,\testimator lgbm's best error=0.4592,\tbest estimator lgbm's best error=0.4592\n",
            "[flaml.automl: 09-29 01:17:49] {1748} INFO - iteration 78, current learner xgboost\n",
            "[flaml.automl: 09-29 01:17:50] {1944} INFO -  at 69.9s,\testimator xgboost's best error=0.4640,\tbest estimator lgbm's best error=0.4592\n",
            "[flaml.automl: 09-29 01:17:50] {1748} INFO - iteration 79, current learner lgbm\n",
            "[flaml.automl: 09-29 01:17:51] {1944} INFO -  at 70.5s,\testimator lgbm's best error=0.4592,\tbest estimator lgbm's best error=0.4592\n",
            "[flaml.automl: 09-29 01:17:51] {1748} INFO - iteration 80, current learner lgbm\n",
            "[flaml.automl: 09-29 01:17:55] {1944} INFO -  at 74.3s,\testimator lgbm's best error=0.4592,\tbest estimator lgbm's best error=0.4592\n",
            "[flaml.automl: 09-29 01:17:55] {1748} INFO - iteration 81, current learner xgboost\n",
            "[flaml.automl: 09-29 01:17:59] {1944} INFO -  at 78.2s,\testimator xgboost's best error=0.4640,\tbest estimator lgbm's best error=0.4592\n",
            "[flaml.automl: 09-29 01:17:59] {1748} INFO - iteration 82, current learner lgbm\n",
            "[flaml.automl: 09-29 01:17:59] {1944} INFO -  at 79.0s,\testimator lgbm's best error=0.4592,\tbest estimator lgbm's best error=0.4592\n",
            "[flaml.automl: 09-29 01:17:59] {1748} INFO - iteration 83, current learner xgboost\n",
            "[flaml.automl: 09-29 01:18:00] {1944} INFO -  at 79.4s,\testimator xgboost's best error=0.4640,\tbest estimator lgbm's best error=0.4592\n",
            "[flaml.automl: 09-29 01:18:00] {1748} INFO - iteration 84, current learner xgboost\n",
            "[flaml.automl: 09-29 01:18:01] {1944} INFO -  at 81.0s,\testimator xgboost's best error=0.4640,\tbest estimator lgbm's best error=0.4592\n",
            "[flaml.automl: 09-29 01:18:01] {1748} INFO - iteration 85, current learner xgboost\n",
            "[flaml.automl: 09-29 01:18:03] {1944} INFO -  at 82.2s,\testimator xgboost's best error=0.4640,\tbest estimator lgbm's best error=0.4592\n",
            "[flaml.automl: 09-29 01:18:03] {1748} INFO - iteration 86, current learner catboost\n",
            "[flaml.automl: 09-29 01:18:07] {1944} INFO -  at 86.3s,\testimator catboost's best error=0.5086,\tbest estimator lgbm's best error=0.4592\n",
            "[flaml.automl: 09-29 01:18:07] {1748} INFO - iteration 87, current learner xgboost\n",
            "[flaml.automl: 09-29 01:18:08] {1944} INFO -  at 87.8s,\testimator xgboost's best error=0.4640,\tbest estimator lgbm's best error=0.4592\n",
            "[flaml.automl: 09-29 01:18:08] {1748} INFO - iteration 88, current learner lgbm\n",
            "[flaml.automl: 09-29 01:18:10] {1944} INFO -  at 89.5s,\testimator lgbm's best error=0.4592,\tbest estimator lgbm's best error=0.4592\n",
            "[flaml.automl: 09-29 01:18:10] {1748} INFO - iteration 89, current learner lgbm\n",
            "[flaml.automl: 09-29 01:18:11] {1944} INFO -  at 90.8s,\testimator lgbm's best error=0.4592,\tbest estimator lgbm's best error=0.4592\n",
            "[flaml.automl: 09-29 01:18:11] {1748} INFO - iteration 90, current learner xgboost\n",
            "[flaml.automl: 09-29 01:18:12] {1944} INFO -  at 91.5s,\testimator xgboost's best error=0.4640,\tbest estimator lgbm's best error=0.4592\n",
            "[flaml.automl: 09-29 01:18:12] {1748} INFO - iteration 91, current learner lgbm\n",
            "[flaml.automl: 09-29 01:18:13] {1944} INFO -  at 92.8s,\testimator lgbm's best error=0.4592,\tbest estimator lgbm's best error=0.4592\n",
            "[flaml.automl: 09-29 01:18:13] {1748} INFO - iteration 92, current learner xgboost\n",
            "[flaml.automl: 09-29 01:18:14] {1944} INFO -  at 93.3s,\testimator xgboost's best error=0.4640,\tbest estimator lgbm's best error=0.4592\n",
            "[flaml.automl: 09-29 01:18:14] {1748} INFO - iteration 93, current learner catboost\n",
            "[flaml.automl: 09-29 01:18:16] {1944} INFO -  at 95.5s,\testimator catboost's best error=0.5086,\tbest estimator lgbm's best error=0.4592\n",
            "[flaml.automl: 09-29 01:18:16] {1748} INFO - iteration 94, current learner lgbm\n",
            "[flaml.automl: 09-29 01:18:20] {1944} INFO -  at 99.8s,\testimator lgbm's best error=0.4592,\tbest estimator lgbm's best error=0.4592\n",
            "[flaml.automl: 09-29 01:18:20] {1748} INFO - iteration 95, current learner lgbm\n",
            "[flaml.automl: 09-29 01:18:21] {1944} INFO -  at 100.2s,\testimator lgbm's best error=0.4592,\tbest estimator lgbm's best error=0.4592\n",
            "[flaml.automl: 09-29 01:18:21] {1748} INFO - iteration 96, current learner xgboost\n",
            "[flaml.automl: 09-29 01:18:24] {1944} INFO -  at 103.1s,\testimator xgboost's best error=0.4640,\tbest estimator lgbm's best error=0.4592\n",
            "[flaml.automl: 09-29 01:18:24] {1748} INFO - iteration 97, current learner lgbm\n",
            "[flaml.automl: 09-29 01:18:26] {1944} INFO -  at 105.1s,\testimator lgbm's best error=0.4592,\tbest estimator lgbm's best error=0.4592\n",
            "[flaml.automl: 09-29 01:18:26] {1748} INFO - iteration 98, current learner lgbm\n",
            "[flaml.automl: 09-29 01:18:26] {1944} INFO -  at 105.8s,\testimator lgbm's best error=0.4592,\tbest estimator lgbm's best error=0.4592\n",
            "[flaml.automl: 09-29 01:18:26] {1748} INFO - iteration 99, current learner lgbm\n",
            "[flaml.automl: 09-29 01:18:33] {1944} INFO -  at 112.4s,\testimator lgbm's best error=0.4592,\tbest estimator lgbm's best error=0.4592\n",
            "[flaml.automl: 09-29 01:18:33] {1748} INFO - iteration 100, current learner lgbm\n",
            "[flaml.automl: 09-29 01:18:33] {1944} INFO -  at 112.8s,\testimator lgbm's best error=0.4592,\tbest estimator lgbm's best error=0.4592\n",
            "[flaml.automl: 09-29 01:18:33] {1748} INFO - iteration 101, current learner xgboost\n",
            "[flaml.automl: 09-29 01:18:34] {1944} INFO -  at 113.8s,\testimator xgboost's best error=0.4640,\tbest estimator lgbm's best error=0.4592\n",
            "[flaml.automl: 09-29 01:18:34] {1748} INFO - iteration 102, current learner catboost\n",
            "[flaml.automl: 09-29 01:18:37] {1944} INFO -  at 117.0s,\testimator catboost's best error=0.5086,\tbest estimator lgbm's best error=0.4592\n",
            "[flaml.automl: 09-29 01:18:37] {1748} INFO - iteration 103, current learner lgbm\n",
            "[flaml.automl: 09-29 01:18:38] {1944} INFO -  at 117.4s,\testimator lgbm's best error=0.4592,\tbest estimator lgbm's best error=0.4592\n",
            "[flaml.automl: 09-29 01:18:38] {1748} INFO - iteration 104, current learner xgboost\n",
            "[flaml.automl: 09-29 01:18:39] {1944} INFO -  at 118.4s,\testimator xgboost's best error=0.4640,\tbest estimator lgbm's best error=0.4592\n",
            "[flaml.automl: 09-29 01:18:39] {1748} INFO - iteration 105, current learner lgbm\n",
            "[flaml.automl: 09-29 01:18:45] {1944} INFO -  at 124.1s,\testimator lgbm's best error=0.4592,\tbest estimator lgbm's best error=0.4592\n",
            "[flaml.automl: 09-29 01:18:45] {1748} INFO - iteration 106, current learner lrl1\n",
            "No low-cost partial config given to the search algorithm. For cost-frugal search, consider providing low-cost values for cost-related hps via 'low_cost_partial_config'.\n",
            "[flaml.automl: 09-29 01:18:46] {1944} INFO -  at 125.8s,\testimator lrl1's best error=0.4872,\tbest estimator lgbm's best error=0.4592\n",
            "[flaml.automl: 09-29 01:18:46] {1748} INFO - iteration 107, current learner lrl1\n",
            "[flaml.automl: 09-29 01:18:47] {1944} INFO -  at 126.9s,\testimator lrl1's best error=0.4872,\tbest estimator lgbm's best error=0.4592\n",
            "[flaml.automl: 09-29 01:18:47] {1748} INFO - iteration 108, current learner lrl1\n",
            "[flaml.automl: 09-29 01:18:50] {1944} INFO -  at 129.4s,\testimator lrl1's best error=0.4844,\tbest estimator lgbm's best error=0.4592\n",
            "[flaml.automl: 09-29 01:18:50] {1748} INFO - iteration 109, current learner lgbm\n",
            "[flaml.automl: 09-29 01:18:52] {1944} INFO -  at 131.9s,\testimator lgbm's best error=0.4592,\tbest estimator lgbm's best error=0.4592\n",
            "[flaml.automl: 09-29 01:18:52] {1748} INFO - iteration 110, current learner lrl1\n",
            "[flaml.automl: 09-29 01:18:53] {1944} INFO -  at 133.0s,\testimator lrl1's best error=0.4844,\tbest estimator lgbm's best error=0.4592\n",
            "[flaml.automl: 09-29 01:18:53] {1748} INFO - iteration 111, current learner xgboost\n",
            "[flaml.automl: 09-29 01:18:55] {1944} INFO -  at 134.2s,\testimator xgboost's best error=0.4640,\tbest estimator lgbm's best error=0.4592\n",
            "[flaml.automl: 09-29 01:18:55] {1748} INFO - iteration 112, current learner lgbm\n",
            "[flaml.automl: 09-29 01:18:55] {1944} INFO -  at 134.8s,\testimator lgbm's best error=0.4592,\tbest estimator lgbm's best error=0.4592\n",
            "[flaml.automl: 09-29 01:18:55] {1748} INFO - iteration 113, current learner lrl1\n",
            "[flaml.automl: 09-29 01:18:58] {1944} INFO -  at 137.3s,\testimator lrl1's best error=0.4844,\tbest estimator lgbm's best error=0.4592\n",
            "[flaml.automl: 09-29 01:18:58] {1748} INFO - iteration 114, current learner xgboost\n",
            "[flaml.automl: 09-29 01:18:58] {1944} INFO -  at 138.1s,\testimator xgboost's best error=0.4640,\tbest estimator lgbm's best error=0.4592\n",
            "[flaml.automl: 09-29 01:18:59] {1748} INFO - iteration 115, current learner lrl1\n",
            "[flaml.automl: 09-29 01:19:01] {1944} INFO -  at 140.5s,\testimator lrl1's best error=0.4844,\tbest estimator lgbm's best error=0.4592\n",
            "[flaml.automl: 09-29 01:19:01] {1748} INFO - iteration 116, current learner lgbm\n",
            "[flaml.automl: 09-29 01:19:01] {1944} INFO -  at 141.0s,\testimator lgbm's best error=0.4592,\tbest estimator lgbm's best error=0.4592\n",
            "[flaml.automl: 09-29 01:19:01] {1748} INFO - iteration 117, current learner lgbm\n",
            "[flaml.automl: 09-29 01:19:07] {1944} INFO -  at 146.9s,\testimator lgbm's best error=0.4592,\tbest estimator lgbm's best error=0.4592\n",
            "[flaml.automl: 09-29 01:19:07] {1748} INFO - iteration 118, current learner lrl1\n",
            "[flaml.automl: 09-29 01:19:08] {1944} INFO -  at 148.0s,\testimator lrl1's best error=0.4844,\tbest estimator lgbm's best error=0.4592\n",
            "[flaml.automl: 09-29 01:19:08] {1748} INFO - iteration 119, current learner xgboost\n",
            "[flaml.automl: 09-29 01:19:09] {1944} INFO -  at 148.8s,\testimator xgboost's best error=0.4640,\tbest estimator lgbm's best error=0.4592\n",
            "[flaml.automl: 09-29 01:19:09] {1748} INFO - iteration 120, current learner lgbm\n",
            "[flaml.automl: 09-29 01:19:10] {1944} INFO -  at 149.1s,\testimator lgbm's best error=0.4592,\tbest estimator lgbm's best error=0.4592\n",
            "[flaml.automl: 09-29 01:19:10] {1748} INFO - iteration 121, current learner xgboost\n",
            "[flaml.automl: 09-29 01:19:11] {1944} INFO -  at 150.7s,\testimator xgboost's best error=0.4640,\tbest estimator lgbm's best error=0.4592\n",
            "[flaml.automl: 09-29 01:19:11] {1748} INFO - iteration 122, current learner xgboost\n",
            "[flaml.automl: 09-29 01:19:13] {1944} INFO -  at 152.4s,\testimator xgboost's best error=0.4640,\tbest estimator lgbm's best error=0.4592\n",
            "[flaml.automl: 09-29 01:19:13] {1748} INFO - iteration 123, current learner lrl1\n",
            "[flaml.automl: 09-29 01:19:14] {1944} INFO -  at 153.7s,\testimator lrl1's best error=0.4844,\tbest estimator lgbm's best error=0.4592\n",
            "[flaml.automl: 09-29 01:19:14] {1748} INFO - iteration 124, current learner xgboost\n",
            "[flaml.automl: 09-29 01:19:15] {1944} INFO -  at 154.4s,\testimator xgboost's best error=0.4640,\tbest estimator lgbm's best error=0.4592\n",
            "[flaml.automl: 09-29 01:19:15] {1748} INFO - iteration 125, current learner lgbm\n",
            "[flaml.automl: 09-29 01:19:21] {1944} INFO -  at 160.3s,\testimator lgbm's best error=0.4592,\tbest estimator lgbm's best error=0.4592\n",
            "[flaml.automl: 09-29 01:19:21] {1748} INFO - iteration 126, current learner lgbm\n",
            "[flaml.automl: 09-29 01:19:21] {1944} INFO -  at 160.6s,\testimator lgbm's best error=0.4592,\tbest estimator lgbm's best error=0.4592\n",
            "[flaml.automl: 09-29 01:19:21] {1748} INFO - iteration 127, current learner lgbm\n",
            "[flaml.automl: 09-29 01:19:29] {1944} INFO -  at 168.3s,\testimator lgbm's best error=0.4592,\tbest estimator lgbm's best error=0.4592\n",
            "[flaml.automl: 09-29 01:19:29] {1748} INFO - iteration 128, current learner lgbm\n",
            "[flaml.automl: 09-29 01:19:33] {1944} INFO -  at 172.7s,\testimator lgbm's best error=0.4592,\tbest estimator lgbm's best error=0.4592\n",
            "[flaml.automl: 09-29 01:19:33] {1748} INFO - iteration 129, current learner lgbm\n",
            "[flaml.automl: 09-29 01:19:34] {1944} INFO -  at 173.1s,\testimator lgbm's best error=0.4592,\tbest estimator lgbm's best error=0.4592\n",
            "[flaml.automl: 09-29 01:19:34] {1748} INFO - iteration 130, current learner xgboost\n",
            "[flaml.automl: 09-29 01:19:35] {1944} INFO -  at 175.1s,\testimator xgboost's best error=0.4640,\tbest estimator lgbm's best error=0.4592\n",
            "[flaml.automl: 09-29 01:19:35] {1748} INFO - iteration 131, current learner xgboost\n",
            "[flaml.automl: 09-29 01:19:36] {1944} INFO -  at 175.6s,\testimator xgboost's best error=0.4640,\tbest estimator lgbm's best error=0.4592\n",
            "[flaml.automl: 09-29 01:19:36] {1748} INFO - iteration 132, current learner xgboost\n",
            "[flaml.automl: 09-29 01:19:38] {1944} INFO -  at 177.2s,\testimator xgboost's best error=0.4640,\tbest estimator lgbm's best error=0.4592\n",
            "[flaml.automl: 09-29 01:19:38] {1748} INFO - iteration 133, current learner xgboost\n",
            "[flaml.automl: 09-29 01:19:39] {1944} INFO -  at 178.2s,\testimator xgboost's best error=0.4640,\tbest estimator lgbm's best error=0.4592\n",
            "[flaml.automl: 09-29 01:19:39] {1748} INFO - iteration 134, current learner lgbm\n",
            "[flaml.automl: 09-29 01:19:43] {1944} INFO -  at 182.4s,\testimator lgbm's best error=0.4592,\tbest estimator lgbm's best error=0.4592\n",
            "[flaml.automl: 09-29 01:19:43] {1748} INFO - iteration 135, current learner lgbm\n",
            "[flaml.automl: 09-29 01:19:43] {1944} INFO -  at 182.8s,\testimator lgbm's best error=0.4592,\tbest estimator lgbm's best error=0.4592\n",
            "[flaml.automl: 09-29 01:19:43] {1748} INFO - iteration 136, current learner xgboost\n",
            "[flaml.automl: 09-29 01:19:45] {1944} INFO -  at 184.2s,\testimator xgboost's best error=0.4640,\tbest estimator lgbm's best error=0.4592\n",
            "[flaml.automl: 09-29 01:19:45] {1748} INFO - iteration 137, current learner lrl1\n",
            "[flaml.automl: 09-29 01:19:47] {1944} INFO -  at 186.6s,\testimator lrl1's best error=0.4844,\tbest estimator lgbm's best error=0.4592\n",
            "[flaml.automl: 09-29 01:19:47] {1748} INFO - iteration 138, current learner xgboost\n",
            "[flaml.automl: 09-29 01:19:48] {1944} INFO -  at 187.6s,\testimator xgboost's best error=0.4640,\tbest estimator lgbm's best error=0.4592\n",
            "[flaml.automl: 09-29 01:19:48] {1748} INFO - iteration 139, current learner lgbm\n",
            "[flaml.automl: 09-29 01:19:49] {1944} INFO -  at 189.0s,\testimator lgbm's best error=0.4592,\tbest estimator lgbm's best error=0.4592\n",
            "[flaml.automl: 09-29 01:19:49] {1748} INFO - iteration 140, current learner xgboost\n",
            "[flaml.automl: 09-29 01:19:52] {1944} INFO -  at 192.0s,\testimator xgboost's best error=0.4640,\tbest estimator lgbm's best error=0.4592\n",
            "[flaml.automl: 09-29 01:19:52] {1748} INFO - iteration 141, current learner lgbm\n",
            "[flaml.automl: 09-29 01:19:54] {1944} INFO -  at 193.2s,\testimator lgbm's best error=0.4592,\tbest estimator lgbm's best error=0.4592\n",
            "[flaml.automl: 09-29 01:19:54] {1748} INFO - iteration 142, current learner xgboost\n",
            "[flaml.automl: 09-29 01:19:54] {1944} INFO -  at 193.7s,\testimator xgboost's best error=0.4640,\tbest estimator lgbm's best error=0.4592\n",
            "[flaml.automl: 09-29 01:19:54] {1748} INFO - iteration 143, current learner rf\n",
            "[flaml.automl: 09-29 01:19:55] {1944} INFO -  at 194.9s,\testimator rf's best error=0.6201,\tbest estimator lgbm's best error=0.4592\n",
            "[flaml.automl: 09-29 01:19:55] {1748} INFO - iteration 144, current learner xgboost\n",
            "[flaml.automl: 09-29 01:19:56] {1944} INFO -  at 195.7s,\testimator xgboost's best error=0.4640,\tbest estimator lgbm's best error=0.4592\n",
            "[flaml.automl: 09-29 01:19:56] {1748} INFO - iteration 145, current learner xgboost\n",
            "[flaml.automl: 09-29 01:19:58] {1944} INFO -  at 197.5s,\testimator xgboost's best error=0.4640,\tbest estimator lgbm's best error=0.4592\n",
            "[flaml.automl: 09-29 01:19:58] {1748} INFO - iteration 146, current learner rf\n",
            "[flaml.automl: 09-29 01:20:00] {1944} INFO -  at 199.3s,\testimator rf's best error=0.5632,\tbest estimator lgbm's best error=0.4592\n",
            "[flaml.automl: 09-29 01:20:00] {1748} INFO - iteration 147, current learner rf\n",
            "[flaml.automl: 09-29 01:20:01] {1944} INFO -  at 200.4s,\testimator rf's best error=0.5632,\tbest estimator lgbm's best error=0.4592\n",
            "[flaml.automl: 09-29 01:20:01] {1748} INFO - iteration 148, current learner lgbm\n",
            "[flaml.automl: 09-29 01:20:02] {1944} INFO -  at 201.5s,\testimator lgbm's best error=0.4592,\tbest estimator lgbm's best error=0.4592\n",
            "[flaml.automl: 09-29 01:20:02] {1748} INFO - iteration 149, current learner rf\n",
            "[flaml.automl: 09-29 01:20:04] {1944} INFO -  at 203.3s,\testimator rf's best error=0.5632,\tbest estimator lgbm's best error=0.4592\n",
            "[flaml.automl: 09-29 01:20:04] {1748} INFO - iteration 150, current learner lgbm\n",
            "[flaml.automl: 09-29 01:20:05] {1944} INFO -  at 204.5s,\testimator lgbm's best error=0.4592,\tbest estimator lgbm's best error=0.4592\n",
            "[flaml.automl: 09-29 01:20:05] {1748} INFO - iteration 151, current learner lgbm\n",
            "[flaml.automl: 09-29 01:20:05] {1944} INFO -  at 205.1s,\testimator lgbm's best error=0.4592,\tbest estimator lgbm's best error=0.4592\n",
            "[flaml.automl: 09-29 01:20:06] {1748} INFO - iteration 152, current learner rf\n",
            "[flaml.automl: 09-29 01:20:07] {1944} INFO -  at 206.9s,\testimator rf's best error=0.5305,\tbest estimator lgbm's best error=0.4592\n",
            "[flaml.automl: 09-29 01:20:07] {1748} INFO - iteration 153, current learner catboost\n",
            "[flaml.automl: 09-29 01:20:10] {1944} INFO -  at 209.5s,\testimator catboost's best error=0.5064,\tbest estimator lgbm's best error=0.4592\n",
            "[flaml.automl: 09-29 01:20:10] {1748} INFO - iteration 154, current learner rf\n",
            "[flaml.automl: 09-29 01:20:11] {1944} INFO -  at 210.8s,\testimator rf's best error=0.5305,\tbest estimator lgbm's best error=0.4592\n",
            "[flaml.automl: 09-29 01:20:11] {1748} INFO - iteration 155, current learner lgbm\n",
            "[flaml.automl: 09-29 01:20:15] {1944} INFO -  at 214.3s,\testimator lgbm's best error=0.4592,\tbest estimator lgbm's best error=0.4592\n",
            "[flaml.automl: 09-29 01:20:15] {1748} INFO - iteration 156, current learner lgbm\n",
            "[flaml.automl: 09-29 01:20:19] {1944} INFO -  at 218.7s,\testimator lgbm's best error=0.4592,\tbest estimator lgbm's best error=0.4592\n",
            "[flaml.automl: 09-29 01:20:19] {1748} INFO - iteration 157, current learner lrl1\n",
            "[flaml.automl: 09-29 01:20:22] {1944} INFO -  at 221.1s,\testimator lrl1's best error=0.4844,\tbest estimator lgbm's best error=0.4592\n",
            "[flaml.automl: 09-29 01:20:22] {1748} INFO - iteration 158, current learner rf\n",
            "[flaml.automl: 09-29 01:20:24] {1944} INFO -  at 223.4s,\testimator rf's best error=0.5305,\tbest estimator lgbm's best error=0.4592\n",
            "[flaml.automl: 09-29 01:20:24] {1748} INFO - iteration 159, current learner rf\n",
            "[flaml.automl: 09-29 01:20:25] {1944} INFO -  at 224.6s,\testimator rf's best error=0.5305,\tbest estimator lgbm's best error=0.4592\n",
            "[flaml.automl: 09-29 01:20:25] {1748} INFO - iteration 160, current learner rf\n",
            "[flaml.automl: 09-29 01:20:28] {1944} INFO -  at 227.9s,\testimator rf's best error=0.5305,\tbest estimator lgbm's best error=0.4592\n",
            "[flaml.automl: 09-29 01:20:28] {1748} INFO - iteration 161, current learner xgboost\n",
            "[flaml.automl: 09-29 01:20:30] {1944} INFO -  at 229.6s,\testimator xgboost's best error=0.4640,\tbest estimator lgbm's best error=0.4592\n",
            "[flaml.automl: 09-29 01:20:30] {1748} INFO - iteration 162, current learner lgbm\n",
            "[flaml.automl: 09-29 01:20:30] {1944} INFO -  at 230.0s,\testimator lgbm's best error=0.4592,\tbest estimator lgbm's best error=0.4592\n",
            "[flaml.automl: 09-29 01:20:30] {1748} INFO - iteration 163, current learner catboost\n",
            "[flaml.automl: 09-29 01:20:33] {1944} INFO -  at 232.9s,\testimator catboost's best error=0.4982,\tbest estimator lgbm's best error=0.4592\n",
            "[flaml.automl: 09-29 01:20:33] {1748} INFO - iteration 164, current learner lrl1\n",
            "[flaml.automl: 09-29 01:20:35] {1944} INFO -  at 234.4s,\testimator lrl1's best error=0.4844,\tbest estimator lgbm's best error=0.4592\n",
            "[flaml.automl: 09-29 01:20:35] {1748} INFO - iteration 165, current learner xgboost\n",
            "[flaml.automl: 09-29 01:20:36] {1944} INFO -  at 235.4s,\testimator xgboost's best error=0.4640,\tbest estimator lgbm's best error=0.4592\n",
            "[flaml.automl: 09-29 01:20:36] {1748} INFO - iteration 166, current learner rf\n",
            "[flaml.automl: 09-29 01:20:38] {1944} INFO -  at 237.2s,\testimator rf's best error=0.5186,\tbest estimator lgbm's best error=0.4592\n",
            "[flaml.automl: 09-29 01:20:38] {1748} INFO - iteration 167, current learner catboost\n",
            "[flaml.automl: 09-29 01:20:40] {1944} INFO -  at 239.8s,\testimator catboost's best error=0.4982,\tbest estimator lgbm's best error=0.4592\n",
            "[flaml.automl: 09-29 01:20:40] {1748} INFO - iteration 168, current learner catboost\n",
            "[flaml.automl: 09-29 01:20:42] {1944} INFO -  at 241.8s,\testimator catboost's best error=0.4982,\tbest estimator lgbm's best error=0.4592\n",
            "[flaml.automl: 09-29 01:20:42] {1748} INFO - iteration 169, current learner xgboost\n",
            "[flaml.automl: 09-29 01:20:43] {1944} INFO -  at 243.0s,\testimator xgboost's best error=0.4640,\tbest estimator lgbm's best error=0.4592\n",
            "[flaml.automl: 09-29 01:20:43] {1748} INFO - iteration 170, current learner lgbm\n",
            "[flaml.automl: 09-29 01:20:46] {1944} INFO -  at 245.6s,\testimator lgbm's best error=0.4592,\tbest estimator lgbm's best error=0.4592\n",
            "[flaml.automl: 09-29 01:20:46] {1748} INFO - iteration 171, current learner lgbm\n",
            "[flaml.automl: 09-29 01:20:47] {1944} INFO -  at 246.3s,\testimator lgbm's best error=0.4592,\tbest estimator lgbm's best error=0.4592\n",
            "[flaml.automl: 09-29 01:20:47] {1748} INFO - iteration 172, current learner lgbm\n",
            "[flaml.automl: 09-29 01:20:48] {1944} INFO -  at 247.3s,\testimator lgbm's best error=0.4592,\tbest estimator lgbm's best error=0.4592\n",
            "[flaml.automl: 09-29 01:20:48] {1748} INFO - iteration 173, current learner catboost\n",
            "[flaml.automl: 09-29 01:20:51] {1944} INFO -  at 250.5s,\testimator catboost's best error=0.4982,\tbest estimator lgbm's best error=0.4592\n",
            "[flaml.automl: 09-29 01:20:51] {1748} INFO - iteration 174, current learner xgboost\n",
            "[flaml.automl: 09-29 01:20:52] {1944} INFO -  at 251.4s,\testimator xgboost's best error=0.4640,\tbest estimator lgbm's best error=0.4592\n",
            "[flaml.automl: 09-29 01:20:52] {1748} INFO - iteration 175, current learner catboost\n",
            "[flaml.automl: 09-29 01:20:55] {1944} INFO -  at 254.5s,\testimator catboost's best error=0.4957,\tbest estimator lgbm's best error=0.4592\n",
            "[flaml.automl: 09-29 01:20:55] {1748} INFO - iteration 176, current learner rf\n",
            "[flaml.automl: 09-29 01:20:57] {1944} INFO -  at 256.3s,\testimator rf's best error=0.5186,\tbest estimator lgbm's best error=0.4592\n",
            "[flaml.automl: 09-29 01:20:57] {1748} INFO - iteration 177, current learner lrl1\n",
            "[flaml.automl: 09-29 01:20:58] {1944} INFO -  at 257.9s,\testimator lrl1's best error=0.4844,\tbest estimator lgbm's best error=0.4592\n",
            "[flaml.automl: 09-29 01:20:58] {1748} INFO - iteration 178, current learner xgboost\n",
            "[flaml.automl: 09-29 01:20:59] {1944} INFO -  at 258.4s,\testimator xgboost's best error=0.4640,\tbest estimator lgbm's best error=0.4592\n",
            "[flaml.automl: 09-29 01:20:59] {1748} INFO - iteration 179, current learner rf\n",
            "[flaml.automl: 09-29 01:21:00] {1944} INFO -  at 259.6s,\testimator rf's best error=0.5186,\tbest estimator lgbm's best error=0.4592\n",
            "[flaml.automl: 09-29 01:21:00] {1748} INFO - iteration 180, current learner xgboost\n",
            "[flaml.automl: 09-29 01:21:03] {1944} INFO -  at 263.0s,\testimator xgboost's best error=0.4640,\tbest estimator lgbm's best error=0.4592\n",
            "[flaml.automl: 09-29 01:21:03] {1748} INFO - iteration 181, current learner xgboost\n",
            "[flaml.automl: 09-29 01:21:05] {1944} INFO -  at 264.6s,\testimator xgboost's best error=0.4640,\tbest estimator lgbm's best error=0.4592\n",
            "[flaml.automl: 09-29 01:21:05] {1748} INFO - iteration 182, current learner xgboost\n",
            "[flaml.automl: 09-29 01:21:06] {1944} INFO -  at 265.5s,\testimator xgboost's best error=0.4640,\tbest estimator lgbm's best error=0.4592\n",
            "[flaml.automl: 09-29 01:21:06] {1748} INFO - iteration 183, current learner lgbm\n",
            "[flaml.automl: 09-29 01:21:08] {1944} INFO -  at 267.7s,\testimator lgbm's best error=0.4592,\tbest estimator lgbm's best error=0.4592\n",
            "[flaml.automl: 09-29 01:21:08] {1748} INFO - iteration 184, current learner lgbm\n",
            "[flaml.automl: 09-29 01:21:09] {1944} INFO -  at 268.5s,\testimator lgbm's best error=0.4561,\tbest estimator lgbm's best error=0.4561\n",
            "[flaml.automl: 09-29 01:21:09] {1748} INFO - iteration 185, current learner rf\n",
            "[flaml.automl: 09-29 01:21:12] {1944} INFO -  at 271.9s,\testimator rf's best error=0.5086,\tbest estimator lgbm's best error=0.4561\n",
            "[flaml.automl: 09-29 01:21:12] {1748} INFO - iteration 186, current learner xgboost\n",
            "[flaml.automl: 09-29 01:21:15] {1944} INFO -  at 274.6s,\testimator xgboost's best error=0.4640,\tbest estimator lgbm's best error=0.4561\n",
            "[flaml.automl: 09-29 01:21:15] {1748} INFO - iteration 187, current learner lgbm\n",
            "[flaml.automl: 09-29 01:21:16] {1944} INFO -  at 275.7s,\testimator lgbm's best error=0.4561,\tbest estimator lgbm's best error=0.4561\n",
            "[flaml.automl: 09-29 01:21:16] {1748} INFO - iteration 188, current learner xgboost\n",
            "[flaml.automl: 09-29 01:21:17] {1944} INFO -  at 276.4s,\testimator xgboost's best error=0.4640,\tbest estimator lgbm's best error=0.4561\n",
            "[flaml.automl: 09-29 01:21:17] {1748} INFO - iteration 189, current learner lgbm\n",
            "[flaml.automl: 09-29 01:21:20] {1944} INFO -  at 279.1s,\testimator lgbm's best error=0.4561,\tbest estimator lgbm's best error=0.4561\n",
            "[flaml.automl: 09-29 01:21:20] {1748} INFO - iteration 190, current learner rf\n",
            "[flaml.automl: 09-29 01:21:23] {1944} INFO -  at 282.5s,\testimator rf's best error=0.5086,\tbest estimator lgbm's best error=0.4561\n",
            "[flaml.automl: 09-29 01:21:23] {1748} INFO - iteration 191, current learner xgboost\n",
            "[flaml.automl: 09-29 01:21:24] {1944} INFO -  at 283.9s,\testimator xgboost's best error=0.4602,\tbest estimator lgbm's best error=0.4561\n",
            "[flaml.automl: 09-29 01:21:24] {1748} INFO - iteration 192, current learner lgbm\n",
            "[flaml.automl: 09-29 01:21:25] {1944} INFO -  at 284.2s,\testimator lgbm's best error=0.4561,\tbest estimator lgbm's best error=0.4561\n",
            "[flaml.automl: 09-29 01:21:25] {1748} INFO - iteration 193, current learner catboost\n",
            "[flaml.automl: 09-29 01:21:28] {1944} INFO -  at 287.8s,\testimator catboost's best error=0.4957,\tbest estimator lgbm's best error=0.4561\n",
            "[flaml.automl: 09-29 01:21:28] {1748} INFO - iteration 194, current learner rf\n",
            "[flaml.automl: 09-29 01:21:30] {1944} INFO -  at 289.6s,\testimator rf's best error=0.5086,\tbest estimator lgbm's best error=0.4561\n",
            "[flaml.automl: 09-29 01:21:30] {1748} INFO - iteration 195, current learner lrl1\n",
            "[flaml.automl: 09-29 01:21:32] {1944} INFO -  at 292.1s,\testimator lrl1's best error=0.4844,\tbest estimator lgbm's best error=0.4561\n",
            "[flaml.automl: 09-29 01:21:32] {1748} INFO - iteration 196, current learner lgbm\n",
            "[flaml.automl: 09-29 01:21:34] {1944} INFO -  at 293.2s,\testimator lgbm's best error=0.4561,\tbest estimator lgbm's best error=0.4561\n",
            "[flaml.automl: 09-29 01:21:34] {1748} INFO - iteration 197, current learner lgbm\n",
            "[flaml.automl: 09-29 01:21:34] {1944} INFO -  at 293.8s,\testimator lgbm's best error=0.4561,\tbest estimator lgbm's best error=0.4561\n",
            "[flaml.automl: 09-29 01:21:34] {1748} INFO - iteration 198, current learner xgboost\n",
            "[flaml.automl: 09-29 01:21:35] {1944} INFO -  at 295.0s,\testimator xgboost's best error=0.4602,\tbest estimator lgbm's best error=0.4561\n",
            "[flaml.automl: 09-29 01:21:35] {1748} INFO - iteration 199, current learner xgboost\n",
            "[flaml.automl: 09-29 01:21:36] {1944} INFO -  at 296.1s,\testimator xgboost's best error=0.4602,\tbest estimator lgbm's best error=0.4561\n",
            "[flaml.automl: 09-29 01:21:36] {1748} INFO - iteration 200, current learner extra_tree\n",
            "[flaml.automl: 09-29 01:21:38] {1944} INFO -  at 297.4s,\testimator extra_tree's best error=0.6478,\tbest estimator lgbm's best error=0.4561\n",
            "[flaml.automl: 09-29 01:21:38] {1748} INFO - iteration 201, current learner lrl1\n",
            "[flaml.automl: 09-29 01:21:39] {1944} INFO -  at 299.0s,\testimator lrl1's best error=0.4844,\tbest estimator lgbm's best error=0.4561\n",
            "[flaml.automl: 09-29 01:21:39] {1748} INFO - iteration 202, current learner lgbm\n",
            "[flaml.automl: 09-29 01:21:40] {1944} INFO -  at 299.4s,\testimator lgbm's best error=0.4561,\tbest estimator lgbm's best error=0.4561\n",
            "[flaml.automl: 09-29 01:21:40] {1748} INFO - iteration 203, current learner lgbm\n",
            "[flaml.automl: 09-29 01:21:43] {1944} INFO -  at 302.5s,\testimator lgbm's best error=0.4540,\tbest estimator lgbm's best error=0.4540\n",
            "[flaml.automl: 09-29 01:21:43] {1748} INFO - iteration 204, current learner lgbm\n",
            "[flaml.automl: 09-29 01:21:52] {1944} INFO -  at 311.1s,\testimator lgbm's best error=0.4540,\tbest estimator lgbm's best error=0.4540\n",
            "[flaml.automl: 09-29 01:21:52] {1748} INFO - iteration 205, current learner xgboost\n",
            "[flaml.automl: 09-29 01:21:53] {1944} INFO -  at 312.1s,\testimator xgboost's best error=0.4602,\tbest estimator lgbm's best error=0.4540\n",
            "[flaml.automl: 09-29 01:21:53] {1748} INFO - iteration 206, current learner xgboost\n",
            "[flaml.automl: 09-29 01:21:54] {1944} INFO -  at 313.8s,\testimator xgboost's best error=0.4602,\tbest estimator lgbm's best error=0.4540\n",
            "[flaml.automl: 09-29 01:21:54] {1748} INFO - iteration 207, current learner lgbm\n",
            "[flaml.automl: 09-29 01:21:55] {1944} INFO -  at 315.0s,\testimator lgbm's best error=0.4540,\tbest estimator lgbm's best error=0.4540\n",
            "[flaml.automl: 09-29 01:21:55] {1748} INFO - iteration 208, current learner rf\n",
            "[flaml.automl: 09-29 01:21:59] {1944} INFO -  at 318.4s,\testimator rf's best error=0.5086,\tbest estimator lgbm's best error=0.4540\n",
            "[flaml.automl: 09-29 01:21:59] {1748} INFO - iteration 209, current learner lgbm\n",
            "[flaml.automl: 09-29 01:22:00] {1944} INFO -  at 319.3s,\testimator lgbm's best error=0.4540,\tbest estimator lgbm's best error=0.4540\n",
            "[flaml.automl: 09-29 01:22:00] {1748} INFO - iteration 210, current learner lgbm\n",
            "[flaml.automl: 09-29 01:22:12] {1944} INFO -  at 331.8s,\testimator lgbm's best error=0.4540,\tbest estimator lgbm's best error=0.4540\n",
            "[flaml.automl: 09-29 01:22:12] {1748} INFO - iteration 211, current learner lgbm\n",
            "[flaml.automl: 09-29 01:22:19] {1944} INFO -  at 338.5s,\testimator lgbm's best error=0.4540,\tbest estimator lgbm's best error=0.4540\n",
            "[flaml.automl: 09-29 01:22:19] {1748} INFO - iteration 212, current learner lgbm\n",
            "[flaml.automl: 09-29 01:22:20] {1944} INFO -  at 340.0s,\testimator lgbm's best error=0.4540,\tbest estimator lgbm's best error=0.4540\n",
            "[flaml.automl: 09-29 01:22:20] {1748} INFO - iteration 213, current learner lgbm\n",
            "[flaml.automl: 09-29 01:22:34] {1944} INFO -  at 353.4s,\testimator lgbm's best error=0.4540,\tbest estimator lgbm's best error=0.4540\n",
            "[flaml.automl: 09-29 01:22:34] {1748} INFO - iteration 214, current learner xgboost\n",
            "[flaml.automl: 09-29 01:22:35] {1944} INFO -  at 354.5s,\testimator xgboost's best error=0.4602,\tbest estimator lgbm's best error=0.4540\n",
            "[flaml.automl: 09-29 01:22:35] {1748} INFO - iteration 215, current learner xgboost\n",
            "[flaml.automl: 09-29 01:22:37] {1944} INFO -  at 356.3s,\testimator xgboost's best error=0.4602,\tbest estimator lgbm's best error=0.4540\n",
            "[flaml.automl: 09-29 01:22:37] {1748} INFO - iteration 216, current learner lgbm\n",
            "[flaml.automl: 09-29 01:22:38] {1944} INFO -  at 357.1s,\testimator lgbm's best error=0.4540,\tbest estimator lgbm's best error=0.4540\n",
            "[flaml.automl: 09-29 01:22:38] {1748} INFO - iteration 217, current learner lrl1\n",
            "[flaml.automl: 09-29 01:22:40] {1944} INFO -  at 359.7s,\testimator lrl1's best error=0.4844,\tbest estimator lgbm's best error=0.4540\n",
            "[flaml.automl: 09-29 01:22:40] {1748} INFO - iteration 218, current learner lgbm\n",
            "[flaml.automl: 09-29 01:22:44] {1944} INFO -  at 363.5s,\testimator lgbm's best error=0.4540,\tbest estimator lgbm's best error=0.4540\n",
            "[flaml.automl: 09-29 01:22:44] {1748} INFO - iteration 219, current learner lgbm\n",
            "[flaml.automl: 09-29 01:22:47] {1944} INFO -  at 367.1s,\testimator lgbm's best error=0.4540,\tbest estimator lgbm's best error=0.4540\n",
            "[flaml.automl: 09-29 01:22:47] {1748} INFO - iteration 220, current learner lgbm\n",
            "[flaml.automl: 09-29 01:22:49] {1944} INFO -  at 368.4s,\testimator lgbm's best error=0.4540,\tbest estimator lgbm's best error=0.4540\n",
            "[flaml.automl: 09-29 01:22:49] {1748} INFO - iteration 221, current learner lgbm\n",
            "[flaml.automl: 09-29 01:22:57] {1944} INFO -  at 376.8s,\testimator lgbm's best error=0.4540,\tbest estimator lgbm's best error=0.4540\n",
            "[flaml.automl: 09-29 01:22:57] {1748} INFO - iteration 222, current learner lgbm\n",
            "[flaml.automl: 09-29 01:23:02] {1944} INFO -  at 381.3s,\testimator lgbm's best error=0.4540,\tbest estimator lgbm's best error=0.4540\n",
            "[flaml.automl: 09-29 01:23:02] {1748} INFO - iteration 223, current learner lrl1\n",
            "[flaml.automl: 09-29 01:23:04] {1944} INFO -  at 383.7s,\testimator lrl1's best error=0.4844,\tbest estimator lgbm's best error=0.4540\n",
            "[flaml.automl: 09-29 01:23:04] {1748} INFO - iteration 224, current learner xgboost\n",
            "[flaml.automl: 09-29 01:23:05] {1944} INFO -  at 384.6s,\testimator xgboost's best error=0.4602,\tbest estimator lgbm's best error=0.4540\n",
            "[flaml.automl: 09-29 01:23:05] {1748} INFO - iteration 225, current learner lgbm\n",
            "[flaml.automl: 09-29 01:23:08] {1944} INFO -  at 387.2s,\testimator lgbm's best error=0.4540,\tbest estimator lgbm's best error=0.4540\n",
            "[flaml.automl: 09-29 01:23:08] {1748} INFO - iteration 226, current learner lgbm\n",
            "[flaml.automl: 09-29 01:23:10] {1944} INFO -  at 389.6s,\testimator lgbm's best error=0.4540,\tbest estimator lgbm's best error=0.4540\n",
            "[flaml.automl: 09-29 01:23:10] {1748} INFO - iteration 227, current learner lgbm\n",
            "[flaml.automl: 09-29 01:23:14] {1944} INFO -  at 394.0s,\testimator lgbm's best error=0.4540,\tbest estimator lgbm's best error=0.4540\n",
            "[flaml.automl: 09-29 01:23:14] {1748} INFO - iteration 228, current learner lgbm\n",
            "[flaml.automl: 09-29 01:23:17] {1944} INFO -  at 396.5s,\testimator lgbm's best error=0.4540,\tbest estimator lgbm's best error=0.4540\n",
            "[flaml.automl: 09-29 01:23:17] {1748} INFO - iteration 229, current learner xgboost\n",
            "[flaml.automl: 09-29 01:23:19] {1944} INFO -  at 398.1s,\testimator xgboost's best error=0.4602,\tbest estimator lgbm's best error=0.4540\n",
            "[flaml.automl: 09-29 01:23:19] {1748} INFO - iteration 230, current learner lgbm\n",
            "[flaml.automl: 09-29 01:23:23] {1944} INFO -  at 402.7s,\testimator lgbm's best error=0.4540,\tbest estimator lgbm's best error=0.4540\n",
            "[flaml.automl: 09-29 01:23:23] {1748} INFO - iteration 231, current learner lrl1\n",
            "[flaml.automl: 09-29 01:23:26] {1944} INFO -  at 405.2s,\testimator lrl1's best error=0.4844,\tbest estimator lgbm's best error=0.4540\n",
            "[flaml.automl: 09-29 01:23:26] {1748} INFO - iteration 232, current learner rf\n",
            "[flaml.automl: 09-29 01:23:28] {1944} INFO -  at 407.4s,\testimator rf's best error=0.5086,\tbest estimator lgbm's best error=0.4540\n",
            "[flaml.automl: 09-29 01:23:28] {1748} INFO - iteration 233, current learner xgboost\n",
            "[flaml.automl: 09-29 01:23:29] {1944} INFO -  at 408.3s,\testimator xgboost's best error=0.4602,\tbest estimator lgbm's best error=0.4540\n",
            "[flaml.automl: 09-29 01:23:29] {1748} INFO - iteration 234, current learner xgboost\n",
            "[flaml.automl: 09-29 01:23:30] {1944} INFO -  at 409.3s,\testimator xgboost's best error=0.4602,\tbest estimator lgbm's best error=0.4540\n",
            "[flaml.automl: 09-29 01:23:30] {1748} INFO - iteration 235, current learner xgboost\n",
            "[flaml.automl: 09-29 01:23:32] {1944} INFO -  at 411.6s,\testimator xgboost's best error=0.4602,\tbest estimator lgbm's best error=0.4540\n",
            "[flaml.automl: 09-29 01:23:32] {1748} INFO - iteration 236, current learner lgbm\n",
            "[flaml.automl: 09-29 01:23:33] {1944} INFO -  at 412.8s,\testimator lgbm's best error=0.4540,\tbest estimator lgbm's best error=0.4540\n",
            "[flaml.automl: 09-29 01:23:33] {1748} INFO - iteration 237, current learner rf\n",
            "[flaml.automl: 09-29 01:23:37] {1944} INFO -  at 416.1s,\testimator rf's best error=0.5086,\tbest estimator lgbm's best error=0.4540\n",
            "[flaml.automl: 09-29 01:23:37] {1748} INFO - iteration 238, current learner xgboost\n",
            "[flaml.automl: 09-29 01:23:38] {1944} INFO -  at 417.3s,\testimator xgboost's best error=0.4602,\tbest estimator lgbm's best error=0.4540\n",
            "[flaml.automl: 09-29 01:23:38] {1748} INFO - iteration 239, current learner lgbm\n",
            "[flaml.automl: 09-29 01:23:45] {1944} INFO -  at 424.2s,\testimator lgbm's best error=0.4540,\tbest estimator lgbm's best error=0.4540\n",
            "[flaml.automl: 09-29 01:23:45] {1748} INFO - iteration 240, current learner rf\n",
            "[flaml.automl: 09-29 01:23:47] {1944} INFO -  at 426.6s,\testimator rf's best error=0.5086,\tbest estimator lgbm's best error=0.4540\n",
            "[flaml.automl: 09-29 01:23:47] {1748} INFO - iteration 241, current learner rf\n",
            "[flaml.automl: 09-29 01:23:50] {1944} INFO -  at 429.5s,\testimator rf's best error=0.5033,\tbest estimator lgbm's best error=0.4540\n",
            "[flaml.automl: 09-29 01:23:50] {1748} INFO - iteration 242, current learner lgbm\n",
            "[flaml.automl: 09-29 01:23:56] {1944} INFO -  at 436.0s,\testimator lgbm's best error=0.4540,\tbest estimator lgbm's best error=0.4540\n",
            "[flaml.automl: 09-29 01:23:56] {1748} INFO - iteration 243, current learner rf\n",
            "[flaml.automl: 09-29 01:23:59] {1944} INFO -  at 438.3s,\testimator rf's best error=0.5033,\tbest estimator lgbm's best error=0.4540\n",
            "[flaml.automl: 09-29 01:23:59] {1748} INFO - iteration 244, current learner lgbm\n",
            "[flaml.automl: 09-29 01:24:00] {1944} INFO -  at 439.8s,\testimator lgbm's best error=0.4540,\tbest estimator lgbm's best error=0.4540\n",
            "[flaml.automl: 09-29 01:24:00] {1748} INFO - iteration 245, current learner xgboost\n",
            "[flaml.automl: 09-29 01:24:01] {1944} INFO -  at 440.8s,\testimator xgboost's best error=0.4602,\tbest estimator lgbm's best error=0.4540\n",
            "[flaml.automl: 09-29 01:24:01] {1748} INFO - iteration 246, current learner lgbm\n",
            "[flaml.automl: 09-29 01:24:04] {1944} INFO -  at 443.4s,\testimator lgbm's best error=0.4540,\tbest estimator lgbm's best error=0.4540\n",
            "[flaml.automl: 09-29 01:24:04] {1748} INFO - iteration 247, current learner xgboost\n",
            "[flaml.automl: 09-29 01:24:05] {1944} INFO -  at 444.7s,\testimator xgboost's best error=0.4602,\tbest estimator lgbm's best error=0.4540\n",
            "[flaml.automl: 09-29 01:24:05] {1748} INFO - iteration 248, current learner rf\n",
            "[flaml.automl: 09-29 01:24:09] {1944} INFO -  at 448.5s,\testimator rf's best error=0.5033,\tbest estimator lgbm's best error=0.4540\n",
            "[flaml.automl: 09-29 01:24:09] {1748} INFO - iteration 249, current learner lgbm\n",
            "[flaml.automl: 09-29 01:24:13] {1944} INFO -  at 452.3s,\testimator lgbm's best error=0.4540,\tbest estimator lgbm's best error=0.4540\n",
            "[flaml.automl: 09-29 01:24:13] {1748} INFO - iteration 250, current learner xgboost\n",
            "[flaml.automl: 09-29 01:24:14] {1944} INFO -  at 453.6s,\testimator xgboost's best error=0.4602,\tbest estimator lgbm's best error=0.4540\n",
            "[flaml.automl: 09-29 01:24:14] {1748} INFO - iteration 251, current learner catboost\n",
            "[flaml.automl: 09-29 01:24:16] {1944} INFO -  at 456.0s,\testimator catboost's best error=0.4957,\tbest estimator lgbm's best error=0.4540\n",
            "[flaml.automl: 09-29 01:24:16] {1748} INFO - iteration 252, current learner lgbm\n",
            "[flaml.automl: 09-29 01:24:19] {1944} INFO -  at 458.8s,\testimator lgbm's best error=0.4540,\tbest estimator lgbm's best error=0.4540\n",
            "[flaml.automl: 09-29 01:24:19] {1748} INFO - iteration 253, current learner lgbm\n",
            "[flaml.automl: 09-29 01:24:23] {1944} INFO -  at 462.3s,\testimator lgbm's best error=0.4540,\tbest estimator lgbm's best error=0.4540\n",
            "[flaml.automl: 09-29 01:24:23] {1748} INFO - iteration 254, current learner catboost\n",
            "[flaml.automl: 09-29 01:24:25] {1944} INFO -  at 464.9s,\testimator catboost's best error=0.4957,\tbest estimator lgbm's best error=0.4540\n",
            "[flaml.automl: 09-29 01:24:25] {1748} INFO - iteration 255, current learner extra_tree\n",
            "[flaml.automl: 09-29 01:24:27] {1944} INFO -  at 466.1s,\testimator extra_tree's best error=0.5871,\tbest estimator lgbm's best error=0.4540\n",
            "[flaml.automl: 09-29 01:24:27] {1748} INFO - iteration 256, current learner lgbm\n",
            "[flaml.automl: 09-29 01:24:34] {1944} INFO -  at 473.6s,\testimator lgbm's best error=0.4540,\tbest estimator lgbm's best error=0.4540\n",
            "[flaml.automl: 09-29 01:24:34] {1748} INFO - iteration 257, current learner extra_tree\n",
            "[flaml.automl: 09-29 01:24:35] {1944} INFO -  at 474.9s,\testimator extra_tree's best error=0.5730,\tbest estimator lgbm's best error=0.4540\n",
            "[flaml.automl: 09-29 01:24:35] {1748} INFO - iteration 258, current learner extra_tree\n",
            "[flaml.automl: 09-29 01:24:36] {1944} INFO -  at 476.1s,\testimator extra_tree's best error=0.5730,\tbest estimator lgbm's best error=0.4540\n",
            "[flaml.automl: 09-29 01:24:36] {1748} INFO - iteration 259, current learner lrl1\n",
            "[flaml.automl: 09-29 01:24:38] {1944} INFO -  at 477.7s,\testimator lrl1's best error=0.4844,\tbest estimator lgbm's best error=0.4540\n",
            "[flaml.automl: 09-29 01:24:38] {1748} INFO - iteration 260, current learner extra_tree\n",
            "[flaml.automl: 09-29 01:24:39] {1944} INFO -  at 479.0s,\testimator extra_tree's best error=0.5730,\tbest estimator lgbm's best error=0.4540\n",
            "[flaml.automl: 09-29 01:24:39] {1748} INFO - iteration 261, current learner extra_tree\n",
            "[flaml.automl: 09-29 01:24:41] {1944} INFO -  at 480.3s,\testimator extra_tree's best error=0.5239,\tbest estimator lgbm's best error=0.4540\n",
            "[flaml.automl: 09-29 01:24:41] {1748} INFO - iteration 262, current learner extra_tree\n",
            "[flaml.automl: 09-29 01:24:42] {1944} INFO -  at 481.6s,\testimator extra_tree's best error=0.5239,\tbest estimator lgbm's best error=0.4540\n",
            "[flaml.automl: 09-29 01:24:42] {1748} INFO - iteration 263, current learner extra_tree\n",
            "[flaml.automl: 09-29 01:24:44] {1944} INFO -  at 483.4s,\testimator extra_tree's best error=0.5049,\tbest estimator lgbm's best error=0.4540\n",
            "[flaml.automl: 09-29 01:24:44] {1748} INFO - iteration 264, current learner extra_tree\n",
            "[flaml.automl: 09-29 01:24:45] {1944} INFO -  at 484.6s,\testimator extra_tree's best error=0.4995,\tbest estimator lgbm's best error=0.4540\n",
            "[flaml.automl: 09-29 01:24:45] {1748} INFO - iteration 265, current learner extra_tree\n",
            "[flaml.automl: 09-29 01:24:47] {1944} INFO -  at 486.4s,\testimator extra_tree's best error=0.4995,\tbest estimator lgbm's best error=0.4540\n",
            "[flaml.automl: 09-29 01:24:47] {1748} INFO - iteration 266, current learner extra_tree\n",
            "[flaml.automl: 09-29 01:24:48] {1944} INFO -  at 487.7s,\testimator extra_tree's best error=0.4995,\tbest estimator lgbm's best error=0.4540\n",
            "[flaml.automl: 09-29 01:24:48] {1748} INFO - iteration 267, current learner extra_tree\n",
            "[flaml.automl: 09-29 01:24:49] {1944} INFO -  at 489.0s,\testimator extra_tree's best error=0.4995,\tbest estimator lgbm's best error=0.4540\n",
            "[flaml.automl: 09-29 01:24:49] {1748} INFO - iteration 268, current learner extra_tree\n",
            "[flaml.automl: 09-29 01:24:51] {1944} INFO -  at 490.2s,\testimator extra_tree's best error=0.4995,\tbest estimator lgbm's best error=0.4540\n",
            "[flaml.automl: 09-29 01:24:51] {1748} INFO - iteration 269, current learner extra_tree\n",
            "[flaml.automl: 09-29 01:24:52] {1944} INFO -  at 491.9s,\testimator extra_tree's best error=0.4995,\tbest estimator lgbm's best error=0.4540\n",
            "[flaml.automl: 09-29 01:24:52] {1748} INFO - iteration 270, current learner extra_tree\n",
            "[flaml.automl: 09-29 01:24:54] {1944} INFO -  at 493.2s,\testimator extra_tree's best error=0.4995,\tbest estimator lgbm's best error=0.4540\n",
            "[flaml.automl: 09-29 01:24:54] {1748} INFO - iteration 271, current learner lgbm\n",
            "[flaml.automl: 09-29 01:24:55] {1944} INFO -  at 494.7s,\testimator lgbm's best error=0.4540,\tbest estimator lgbm's best error=0.4540\n",
            "[flaml.automl: 09-29 01:24:55] {1748} INFO - iteration 272, current learner xgboost\n",
            "[flaml.automl: 09-29 01:24:57] {1944} INFO -  at 496.6s,\testimator xgboost's best error=0.4602,\tbest estimator lgbm's best error=0.4540\n",
            "[flaml.automl: 09-29 01:24:57] {1748} INFO - iteration 273, current learner rf\n",
            "[flaml.automl: 09-29 01:24:59] {1944} INFO -  at 498.4s,\testimator rf's best error=0.5033,\tbest estimator lgbm's best error=0.4540\n",
            "[flaml.automl: 09-29 01:24:59] {1748} INFO - iteration 274, current learner rf\n",
            "[flaml.automl: 09-29 01:25:02] {1944} INFO -  at 501.8s,\testimator rf's best error=0.5033,\tbest estimator lgbm's best error=0.4540\n",
            "[flaml.automl: 09-29 01:25:02] {1748} INFO - iteration 275, current learner rf\n",
            "[flaml.automl: 09-29 01:25:04] {1944} INFO -  at 504.1s,\testimator rf's best error=0.5033,\tbest estimator lgbm's best error=0.4540\n",
            "[flaml.automl: 09-29 01:25:04] {1748} INFO - iteration 276, current learner rf\n",
            "[flaml.automl: 09-29 01:25:08] {1944} INFO -  at 507.6s,\testimator rf's best error=0.5033,\tbest estimator lgbm's best error=0.4540\n",
            "[flaml.automl: 09-29 01:25:08] {1748} INFO - iteration 277, current learner lgbm\n",
            "[flaml.automl: 09-29 01:25:16] {1944} INFO -  at 515.8s,\testimator lgbm's best error=0.4540,\tbest estimator lgbm's best error=0.4540\n",
            "[flaml.automl: 09-29 01:25:16] {1748} INFO - iteration 278, current learner xgboost\n",
            "[flaml.automl: 09-29 01:25:17] {1944} INFO -  at 516.6s,\testimator xgboost's best error=0.4602,\tbest estimator lgbm's best error=0.4540\n",
            "[flaml.automl: 09-29 01:25:17] {1748} INFO - iteration 279, current learner catboost\n",
            "[flaml.automl: 09-29 01:25:20] {1944} INFO -  at 520.0s,\testimator catboost's best error=0.4957,\tbest estimator lgbm's best error=0.4540\n",
            "[flaml.automl: 09-29 01:25:20] {1748} INFO - iteration 280, current learner lrl1\n",
            "[flaml.automl: 09-29 01:25:22] {1944} INFO -  at 521.7s,\testimator lrl1's best error=0.4844,\tbest estimator lgbm's best error=0.4540\n",
            "[flaml.automl: 09-29 01:25:22] {1748} INFO - iteration 281, current learner extra_tree\n",
            "[flaml.automl: 09-29 01:25:23] {1944} INFO -  at 523.0s,\testimator extra_tree's best error=0.4995,\tbest estimator lgbm's best error=0.4540\n",
            "[flaml.automl: 09-29 01:25:23] {1748} INFO - iteration 282, current learner lgbm\n",
            "[flaml.automl: 09-29 01:25:25] {1944} INFO -  at 524.5s,\testimator lgbm's best error=0.4540,\tbest estimator lgbm's best error=0.4540\n",
            "[flaml.automl: 09-29 01:25:25] {1748} INFO - iteration 283, current learner rf\n",
            "[flaml.automl: 09-29 01:25:27] {1944} INFO -  at 526.3s,\testimator rf's best error=0.5033,\tbest estimator lgbm's best error=0.4540\n",
            "[flaml.automl: 09-29 01:25:27] {1748} INFO - iteration 284, current learner lgbm\n",
            "[flaml.automl: 09-29 01:25:37] {1944} INFO -  at 536.2s,\testimator lgbm's best error=0.4540,\tbest estimator lgbm's best error=0.4540\n",
            "[flaml.automl: 09-29 01:25:37] {1748} INFO - iteration 285, current learner extra_tree\n",
            "[flaml.automl: 09-29 01:25:38] {1944} INFO -  at 537.5s,\testimator extra_tree's best error=0.4995,\tbest estimator lgbm's best error=0.4540\n",
            "[flaml.automl: 09-29 01:25:38] {1748} INFO - iteration 286, current learner extra_tree\n",
            "[flaml.automl: 09-29 01:25:39] {1944} INFO -  at 538.7s,\testimator extra_tree's best error=0.4995,\tbest estimator lgbm's best error=0.4540\n",
            "[flaml.automl: 09-29 01:25:39] {1748} INFO - iteration 287, current learner extra_tree\n",
            "[flaml.automl: 09-29 01:25:41] {1944} INFO -  at 540.5s,\testimator extra_tree's best error=0.4995,\tbest estimator lgbm's best error=0.4540\n",
            "[flaml.automl: 09-29 01:25:41] {1748} INFO - iteration 288, current learner xgboost\n",
            "[flaml.automl: 09-29 01:25:43] {1944} INFO -  at 542.2s,\testimator xgboost's best error=0.4602,\tbest estimator lgbm's best error=0.4540\n",
            "[flaml.automl: 09-29 01:25:43] {1748} INFO - iteration 289, current learner lgbm\n",
            "[flaml.automl: 09-29 01:25:44] {1944} INFO -  at 543.7s,\testimator lgbm's best error=0.4540,\tbest estimator lgbm's best error=0.4540\n",
            "[flaml.automl: 09-29 01:25:44] {1748} INFO - iteration 290, current learner lgbm\n",
            "[flaml.automl: 09-29 01:25:45] {1944} INFO -  at 545.0s,\testimator lgbm's best error=0.4540,\tbest estimator lgbm's best error=0.4540\n",
            "[flaml.automl: 09-29 01:25:45] {1748} INFO - iteration 291, current learner extra_tree\n",
            "[flaml.automl: 09-29 01:25:47] {1944} INFO -  at 546.2s,\testimator extra_tree's best error=0.4995,\tbest estimator lgbm's best error=0.4540\n",
            "[flaml.automl: 09-29 01:25:47] {1748} INFO - iteration 292, current learner catboost\n",
            "[flaml.automl: 09-29 01:25:49] {1944} INFO -  at 548.9s,\testimator catboost's best error=0.4957,\tbest estimator lgbm's best error=0.4540\n",
            "[flaml.automl: 09-29 01:25:49] {1748} INFO - iteration 293, current learner extra_tree\n",
            "[flaml.automl: 09-29 01:25:51] {1944} INFO -  at 550.1s,\testimator extra_tree's best error=0.4995,\tbest estimator lgbm's best error=0.4540\n",
            "[flaml.automl: 09-29 01:25:51] {1748} INFO - iteration 294, current learner xgboost\n",
            "[flaml.automl: 09-29 01:25:51] {1944} INFO -  at 550.9s,\testimator xgboost's best error=0.4602,\tbest estimator lgbm's best error=0.4540\n",
            "[flaml.automl: 09-29 01:25:51] {1748} INFO - iteration 295, current learner xgboost\n",
            "[flaml.automl: 09-29 01:25:53] {1944} INFO -  at 552.3s,\testimator xgboost's best error=0.4602,\tbest estimator lgbm's best error=0.4540\n",
            "[flaml.automl: 09-29 01:25:53] {1748} INFO - iteration 296, current learner catboost\n",
            "[flaml.automl: 09-29 01:25:56] {1944} INFO -  at 555.5s,\testimator catboost's best error=0.4957,\tbest estimator lgbm's best error=0.4540\n",
            "[flaml.automl: 09-29 01:25:56] {1748} INFO - iteration 297, current learner extra_tree\n",
            "[flaml.automl: 09-29 01:25:57] {1944} INFO -  at 556.7s,\testimator extra_tree's best error=0.4995,\tbest estimator lgbm's best error=0.4540\n",
            "[flaml.automl: 09-29 01:25:57] {1748} INFO - iteration 298, current learner xgboost\n",
            "[flaml.automl: 09-29 01:25:58] {1944} INFO -  at 558.0s,\testimator xgboost's best error=0.4602,\tbest estimator lgbm's best error=0.4540\n",
            "[flaml.automl: 09-29 01:25:58] {1748} INFO - iteration 299, current learner rf\n",
            "[flaml.automl: 09-29 01:26:01] {1944} INFO -  at 560.3s,\testimator rf's best error=0.5033,\tbest estimator lgbm's best error=0.4540\n",
            "[flaml.automl: 09-29 01:26:01] {1748} INFO - iteration 300, current learner lgbm\n",
            "[flaml.automl: 09-29 01:26:13] {1944} INFO -  at 572.4s,\testimator lgbm's best error=0.4540,\tbest estimator lgbm's best error=0.4540\n",
            "[flaml.automl: 09-29 01:26:13] {1748} INFO - iteration 301, current learner lgbm\n",
            "[flaml.automl: 09-29 01:26:15] {1944} INFO -  at 574.4s,\testimator lgbm's best error=0.4540,\tbest estimator lgbm's best error=0.4540\n",
            "[flaml.automl: 09-29 01:26:15] {1748} INFO - iteration 302, current learner lgbm\n",
            "[flaml.automl: 09-29 01:26:20] {1944} INFO -  at 579.5s,\testimator lgbm's best error=0.4540,\tbest estimator lgbm's best error=0.4540\n",
            "[flaml.automl: 09-29 01:26:20] {1748} INFO - iteration 303, current learner lgbm\n",
            "[flaml.automl: 09-29 01:26:35] {1944} INFO -  at 594.9s,\testimator lgbm's best error=0.4540,\tbest estimator lgbm's best error=0.4540\n",
            "[flaml.automl: 09-29 01:26:35] {1748} INFO - iteration 304, current learner lrl1\n",
            "[flaml.automl: 09-29 01:26:38] {1944} INFO -  at 597.4s,\testimator lrl1's best error=0.4844,\tbest estimator lgbm's best error=0.4540\n",
            "[flaml.automl: 09-29 01:26:38] {1748} INFO - iteration 305, current learner xgboost\n",
            "[flaml.automl: 09-29 01:26:39] {1944} INFO -  at 598.3s,\testimator xgboost's best error=0.4602,\tbest estimator lgbm's best error=0.4540\n",
            "[flaml.automl: 09-29 01:26:39] {1748} INFO - iteration 306, current learner extra_tree\n",
            "[flaml.automl: 09-29 01:26:40] {1944} INFO -  at 599.6s,\testimator extra_tree's best error=0.4995,\tbest estimator lgbm's best error=0.4540\n",
            "[flaml.automl: 09-29 01:26:40] {2043} INFO - selected model: LGBMClassifier(colsample_bytree=0.512227091533919,\n",
            "               learning_rate=0.03245805298382219, max_bin=64,\n",
            "               min_child_samples=3, n_estimators=457, num_leaves=30,\n",
            "               objective='binary', reg_alpha=0.0018144095853662027,\n",
            "               reg_lambda=0.0017659270861685842, verbose=-1)\n",
            "[flaml.automl: 09-29 01:26:41] {2106} INFO - retrain lgbm for 0.7s\n",
            "[flaml.automl: 09-29 01:26:41] {2110} INFO - retrained model: LGBMClassifier(colsample_bytree=0.512227091533919,\n",
            "               learning_rate=0.03245805298382219, max_bin=64,\n",
            "               min_child_samples=3, n_estimators=457, num_leaves=30,\n",
            "               objective='binary', reg_alpha=0.0018144095853662027,\n",
            "               reg_lambda=0.0017659270861685842, verbose=-1)\n",
            "[flaml.automl: 09-29 01:26:41] {1539} INFO - fit succeeded\n",
            "[flaml.automl: 09-29 01:26:41] {1541} INFO - Time taken to find the best model: 302.49240827560425\n"
          ]
        },
        {
          "output_type": "execute_result",
          "data": {
            "text/plain": [
              "Pipeline(steps=[('preprocessor',\n",
              "                 ColumnTransformer(transformers=[('num',\n",
              "                                                  Pipeline(steps=[('imputer',\n",
              "                                                                   SimpleImputer(strategy='median')),\n",
              "                                                                  ('scaler',\n",
              "                                                                   StandardScaler())]),\n",
              "                                                  ['KIDSDRIV', 'AGE',\n",
              "                                                   'HOMEKIDS', 'YOJ', 'INCOME',\n",
              "                                                   'HOME_VAL', 'TRAVTIME',\n",
              "                                                   'BLUEBOOK', 'TIF',\n",
              "                                                   'OLDCLAIM', 'CLM_FREQ',\n",
              "                                                   'MVR_PTS', 'CAR_AGE']),\n",
              "                                                 ('cat',\n",
              "                                                  Pipeline(steps=[('imputer',\n",
              "                                                                   SimpleImputer(fill_value='missing',\n",
              "                                                                                 strategy='constant')),\n",
              "                                                                  ('onehot',\n",
              "                                                                   OneHotEncoder())]),\n",
              "                                                  ['PARENT1', 'MSTATUS', 'SEX',\n",
              "                                                   'EDUCATION', 'JOB',\n",
              "                                                   'CAR_USE', 'CAR_TYPE',\n",
              "                                                   'RED_CAR', 'REVOKED',\n",
              "                                                   'URBANICITY'])])),\n",
              "                ('automl_model',\n",
              "                 <flaml.automl.AutoML object at 0x7fea94675550>)])"
            ]
          },
          "metadata": {},
          "execution_count": 25
        }
      ]
    },
    {
      "cell_type": "code",
      "metadata": {
        "colab": {
          "base_uri": "https://localhost:8080/"
        },
        "id": "H47xDTtkx_dI",
        "outputId": "51885ffc-6aa5-4957-dea4-2a4598797924"
      },
      "source": [
        "preds = clf_2.predict(X_test)\n",
        "print(f\"balanced_accuracy_score: {round(f1_score(preds, y_test),3)}\")\n",
        "print(f\"balanced_accuracy_score: {round(balanced_accuracy_score(preds, y_test)*100,2)}%\")\n",
        "print(f\"accuracy_score: {round(accuracy_score(preds, y_test)*100,2)}%\")"
      ],
      "execution_count": 26,
      "outputs": [
        {
          "output_type": "stream",
          "name": "stdout",
          "text": [
            "balanced_accuracy_score: 0.526\n",
            "balanced_accuracy_score: 72.71%\n",
            "accuracy_score: 78.36%\n"
          ]
        }
      ]
    },
    {
      "cell_type": "markdown",
      "metadata": {
        "id": "P8Wi7GWPA0Cd"
      },
      "source": [
        "### Interpretations\n",
        "- Running the model selection and hyperparameters fine-tuning process did not hugely improve the performance of the model. On the other hand, we managed to improve the **f1-score** metric which seems to be the most adequate metric in this situation.\n",
        "- The fact that we could significantly improve the performance of the ML models is most likely due to the fact that using Cross-validation strategy is strengthening our model in terms of low variance and therefore the bias couldn't be really minimized.\n",
        "- We should also pay attention that the data itself impose some kind of performance barrier as no data is completely free of noise and mislabelling.\n",
        "- The presence of missing data has also complicated the task of getting really performing model."
      ]
    },
    {
      "cell_type": "markdown",
      "metadata": {
        "id": "lAtRrvhx-vAb"
      },
      "source": [
        "# Predictions for the test set"
      ]
    },
    {
      "cell_type": "code",
      "metadata": {
        "colab": {
          "base_uri": "https://localhost:8080/",
          "height": 736
        },
        "id": "RFgpyaEi-xka",
        "outputId": "d6287691-2b40-4835-b268-73bba04e22d8"
      },
      "source": [
        "df_test = pd.read_csv(\"test_auto.csv\", index_col = \"INDEX\").drop(columns = [\"TARGET_FLAG\", \"TARGET_AMT\"])\n",
        "df_test"
      ],
      "execution_count": 27,
      "outputs": [
        {
          "output_type": "execute_result",
          "data": {
            "text/html": [
              "<div>\n",
              "<style scoped>\n",
              "    .dataframe tbody tr th:only-of-type {\n",
              "        vertical-align: middle;\n",
              "    }\n",
              "\n",
              "    .dataframe tbody tr th {\n",
              "        vertical-align: top;\n",
              "    }\n",
              "\n",
              "    .dataframe thead th {\n",
              "        text-align: right;\n",
              "    }\n",
              "</style>\n",
              "<table border=\"1\" class=\"dataframe\">\n",
              "  <thead>\n",
              "    <tr style=\"text-align: right;\">\n",
              "      <th></th>\n",
              "      <th>KIDSDRIV</th>\n",
              "      <th>AGE</th>\n",
              "      <th>HOMEKIDS</th>\n",
              "      <th>YOJ</th>\n",
              "      <th>INCOME</th>\n",
              "      <th>PARENT1</th>\n",
              "      <th>HOME_VAL</th>\n",
              "      <th>MSTATUS</th>\n",
              "      <th>SEX</th>\n",
              "      <th>EDUCATION</th>\n",
              "      <th>JOB</th>\n",
              "      <th>TRAVTIME</th>\n",
              "      <th>CAR_USE</th>\n",
              "      <th>BLUEBOOK</th>\n",
              "      <th>TIF</th>\n",
              "      <th>CAR_TYPE</th>\n",
              "      <th>RED_CAR</th>\n",
              "      <th>OLDCLAIM</th>\n",
              "      <th>CLM_FREQ</th>\n",
              "      <th>REVOKED</th>\n",
              "      <th>MVR_PTS</th>\n",
              "      <th>CAR_AGE</th>\n",
              "      <th>URBANICITY</th>\n",
              "    </tr>\n",
              "    <tr>\n",
              "      <th>INDEX</th>\n",
              "      <th></th>\n",
              "      <th></th>\n",
              "      <th></th>\n",
              "      <th></th>\n",
              "      <th></th>\n",
              "      <th></th>\n",
              "      <th></th>\n",
              "      <th></th>\n",
              "      <th></th>\n",
              "      <th></th>\n",
              "      <th></th>\n",
              "      <th></th>\n",
              "      <th></th>\n",
              "      <th></th>\n",
              "      <th></th>\n",
              "      <th></th>\n",
              "      <th></th>\n",
              "      <th></th>\n",
              "      <th></th>\n",
              "      <th></th>\n",
              "      <th></th>\n",
              "      <th></th>\n",
              "      <th></th>\n",
              "    </tr>\n",
              "  </thead>\n",
              "  <tbody>\n",
              "    <tr>\n",
              "      <th>3</th>\n",
              "      <td>0</td>\n",
              "      <td>48.0</td>\n",
              "      <td>0</td>\n",
              "      <td>11.0</td>\n",
              "      <td>$52,881</td>\n",
              "      <td>No</td>\n",
              "      <td>$0</td>\n",
              "      <td>z_No</td>\n",
              "      <td>M</td>\n",
              "      <td>Bachelors</td>\n",
              "      <td>Manager</td>\n",
              "      <td>26</td>\n",
              "      <td>Private</td>\n",
              "      <td>$21,970</td>\n",
              "      <td>1</td>\n",
              "      <td>Van</td>\n",
              "      <td>yes</td>\n",
              "      <td>$0</td>\n",
              "      <td>0</td>\n",
              "      <td>No</td>\n",
              "      <td>2</td>\n",
              "      <td>10.0</td>\n",
              "      <td>Highly Urban/ Urban</td>\n",
              "    </tr>\n",
              "    <tr>\n",
              "      <th>9</th>\n",
              "      <td>1</td>\n",
              "      <td>40.0</td>\n",
              "      <td>1</td>\n",
              "      <td>11.0</td>\n",
              "      <td>$50,815</td>\n",
              "      <td>Yes</td>\n",
              "      <td>$0</td>\n",
              "      <td>z_No</td>\n",
              "      <td>M</td>\n",
              "      <td>z_High School</td>\n",
              "      <td>Manager</td>\n",
              "      <td>21</td>\n",
              "      <td>Private</td>\n",
              "      <td>$18,930</td>\n",
              "      <td>6</td>\n",
              "      <td>Minivan</td>\n",
              "      <td>no</td>\n",
              "      <td>$3,295</td>\n",
              "      <td>1</td>\n",
              "      <td>No</td>\n",
              "      <td>2</td>\n",
              "      <td>1.0</td>\n",
              "      <td>Highly Urban/ Urban</td>\n",
              "    </tr>\n",
              "    <tr>\n",
              "      <th>10</th>\n",
              "      <td>0</td>\n",
              "      <td>44.0</td>\n",
              "      <td>2</td>\n",
              "      <td>12.0</td>\n",
              "      <td>$43,486</td>\n",
              "      <td>Yes</td>\n",
              "      <td>$0</td>\n",
              "      <td>z_No</td>\n",
              "      <td>z_F</td>\n",
              "      <td>z_High School</td>\n",
              "      <td>z_Blue Collar</td>\n",
              "      <td>30</td>\n",
              "      <td>Commercial</td>\n",
              "      <td>$5,900</td>\n",
              "      <td>10</td>\n",
              "      <td>z_SUV</td>\n",
              "      <td>no</td>\n",
              "      <td>$0</td>\n",
              "      <td>0</td>\n",
              "      <td>No</td>\n",
              "      <td>0</td>\n",
              "      <td>10.0</td>\n",
              "      <td>z_Highly Rural/ Rural</td>\n",
              "    </tr>\n",
              "    <tr>\n",
              "      <th>18</th>\n",
              "      <td>0</td>\n",
              "      <td>35.0</td>\n",
              "      <td>2</td>\n",
              "      <td>NaN</td>\n",
              "      <td>$21,204</td>\n",
              "      <td>Yes</td>\n",
              "      <td>$0</td>\n",
              "      <td>z_No</td>\n",
              "      <td>M</td>\n",
              "      <td>z_High School</td>\n",
              "      <td>Clerical</td>\n",
              "      <td>74</td>\n",
              "      <td>Private</td>\n",
              "      <td>$9,230</td>\n",
              "      <td>6</td>\n",
              "      <td>Pickup</td>\n",
              "      <td>no</td>\n",
              "      <td>$0</td>\n",
              "      <td>0</td>\n",
              "      <td>Yes</td>\n",
              "      <td>0</td>\n",
              "      <td>4.0</td>\n",
              "      <td>z_Highly Rural/ Rural</td>\n",
              "    </tr>\n",
              "    <tr>\n",
              "      <th>21</th>\n",
              "      <td>0</td>\n",
              "      <td>59.0</td>\n",
              "      <td>0</td>\n",
              "      <td>12.0</td>\n",
              "      <td>$87,460</td>\n",
              "      <td>No</td>\n",
              "      <td>$0</td>\n",
              "      <td>z_No</td>\n",
              "      <td>M</td>\n",
              "      <td>z_High School</td>\n",
              "      <td>Manager</td>\n",
              "      <td>45</td>\n",
              "      <td>Private</td>\n",
              "      <td>$15,420</td>\n",
              "      <td>1</td>\n",
              "      <td>Minivan</td>\n",
              "      <td>yes</td>\n",
              "      <td>$44,857</td>\n",
              "      <td>2</td>\n",
              "      <td>No</td>\n",
              "      <td>4</td>\n",
              "      <td>1.0</td>\n",
              "      <td>Highly Urban/ Urban</td>\n",
              "    </tr>\n",
              "    <tr>\n",
              "      <th>...</th>\n",
              "      <td>...</td>\n",
              "      <td>...</td>\n",
              "      <td>...</td>\n",
              "      <td>...</td>\n",
              "      <td>...</td>\n",
              "      <td>...</td>\n",
              "      <td>...</td>\n",
              "      <td>...</td>\n",
              "      <td>...</td>\n",
              "      <td>...</td>\n",
              "      <td>...</td>\n",
              "      <td>...</td>\n",
              "      <td>...</td>\n",
              "      <td>...</td>\n",
              "      <td>...</td>\n",
              "      <td>...</td>\n",
              "      <td>...</td>\n",
              "      <td>...</td>\n",
              "      <td>...</td>\n",
              "      <td>...</td>\n",
              "      <td>...</td>\n",
              "      <td>...</td>\n",
              "      <td>...</td>\n",
              "    </tr>\n",
              "    <tr>\n",
              "      <th>10279</th>\n",
              "      <td>0</td>\n",
              "      <td>46.0</td>\n",
              "      <td>0</td>\n",
              "      <td>0.0</td>\n",
              "      <td>$0</td>\n",
              "      <td>No</td>\n",
              "      <td>$0</td>\n",
              "      <td>Yes</td>\n",
              "      <td>z_F</td>\n",
              "      <td>z_High School</td>\n",
              "      <td>Student</td>\n",
              "      <td>32</td>\n",
              "      <td>Commercial</td>\n",
              "      <td>$1,500</td>\n",
              "      <td>6</td>\n",
              "      <td>Sports Car</td>\n",
              "      <td>no</td>\n",
              "      <td>$20,519</td>\n",
              "      <td>1</td>\n",
              "      <td>Yes</td>\n",
              "      <td>3</td>\n",
              "      <td>8.0</td>\n",
              "      <td>z_Highly Rural/ Rural</td>\n",
              "    </tr>\n",
              "    <tr>\n",
              "      <th>10281</th>\n",
              "      <td>0</td>\n",
              "      <td>46.0</td>\n",
              "      <td>0</td>\n",
              "      <td>12.0</td>\n",
              "      <td>$43,501</td>\n",
              "      <td>No</td>\n",
              "      <td>$134,977</td>\n",
              "      <td>Yes</td>\n",
              "      <td>M</td>\n",
              "      <td>z_High School</td>\n",
              "      <td>Professional</td>\n",
              "      <td>60</td>\n",
              "      <td>Private</td>\n",
              "      <td>$16,080</td>\n",
              "      <td>3</td>\n",
              "      <td>Minivan</td>\n",
              "      <td>no</td>\n",
              "      <td>$0</td>\n",
              "      <td>0</td>\n",
              "      <td>No</td>\n",
              "      <td>2</td>\n",
              "      <td>1.0</td>\n",
              "      <td>z_Highly Rural/ Rural</td>\n",
              "    </tr>\n",
              "    <tr>\n",
              "      <th>10285</th>\n",
              "      <td>0</td>\n",
              "      <td>55.0</td>\n",
              "      <td>0</td>\n",
              "      <td>10.0</td>\n",
              "      <td>$141,083</td>\n",
              "      <td>No</td>\n",
              "      <td>$393,624</td>\n",
              "      <td>Yes</td>\n",
              "      <td>z_F</td>\n",
              "      <td>Masters</td>\n",
              "      <td>Lawyer</td>\n",
              "      <td>42</td>\n",
              "      <td>Private</td>\n",
              "      <td>$21,110</td>\n",
              "      <td>10</td>\n",
              "      <td>Sports Car</td>\n",
              "      <td>no</td>\n",
              "      <td>$0</td>\n",
              "      <td>0</td>\n",
              "      <td>No</td>\n",
              "      <td>0</td>\n",
              "      <td>22.0</td>\n",
              "      <td>z_Highly Rural/ Rural</td>\n",
              "    </tr>\n",
              "    <tr>\n",
              "      <th>10294</th>\n",
              "      <td>0</td>\n",
              "      <td>51.0</td>\n",
              "      <td>0</td>\n",
              "      <td>10.0</td>\n",
              "      <td>$128,523</td>\n",
              "      <td>No</td>\n",
              "      <td>$0</td>\n",
              "      <td>z_No</td>\n",
              "      <td>M</td>\n",
              "      <td>Masters</td>\n",
              "      <td>NaN</td>\n",
              "      <td>18</td>\n",
              "      <td>Commercial</td>\n",
              "      <td>$32,960</td>\n",
              "      <td>6</td>\n",
              "      <td>Panel Truck</td>\n",
              "      <td>no</td>\n",
              "      <td>$3,995</td>\n",
              "      <td>3</td>\n",
              "      <td>No</td>\n",
              "      <td>1</td>\n",
              "      <td>15.0</td>\n",
              "      <td>Highly Urban/ Urban</td>\n",
              "    </tr>\n",
              "    <tr>\n",
              "      <th>10300</th>\n",
              "      <td>0</td>\n",
              "      <td>48.0</td>\n",
              "      <td>0</td>\n",
              "      <td>15.0</td>\n",
              "      <td>$39,837</td>\n",
              "      <td>No</td>\n",
              "      <td>$170,611</td>\n",
              "      <td>Yes</td>\n",
              "      <td>z_F</td>\n",
              "      <td>&lt;High School</td>\n",
              "      <td>z_Blue Collar</td>\n",
              "      <td>12</td>\n",
              "      <td>Private</td>\n",
              "      <td>$13,820</td>\n",
              "      <td>7</td>\n",
              "      <td>z_SUV</td>\n",
              "      <td>no</td>\n",
              "      <td>$0</td>\n",
              "      <td>0</td>\n",
              "      <td>No</td>\n",
              "      <td>0</td>\n",
              "      <td>1.0</td>\n",
              "      <td>Highly Urban/ Urban</td>\n",
              "    </tr>\n",
              "  </tbody>\n",
              "</table>\n",
              "<p>2141 rows × 23 columns</p>\n",
              "</div>"
            ],
            "text/plain": [
              "       KIDSDRIV   AGE  HOMEKIDS  ...  MVR_PTS CAR_AGE             URBANICITY\n",
              "INDEX                            ...                                        \n",
              "3             0  48.0         0  ...        2    10.0    Highly Urban/ Urban\n",
              "9             1  40.0         1  ...        2     1.0    Highly Urban/ Urban\n",
              "10            0  44.0         2  ...        0    10.0  z_Highly Rural/ Rural\n",
              "18            0  35.0         2  ...        0     4.0  z_Highly Rural/ Rural\n",
              "21            0  59.0         0  ...        4     1.0    Highly Urban/ Urban\n",
              "...         ...   ...       ...  ...      ...     ...                    ...\n",
              "10279         0  46.0         0  ...        3     8.0  z_Highly Rural/ Rural\n",
              "10281         0  46.0         0  ...        2     1.0  z_Highly Rural/ Rural\n",
              "10285         0  55.0         0  ...        0    22.0  z_Highly Rural/ Rural\n",
              "10294         0  51.0         0  ...        1    15.0    Highly Urban/ Urban\n",
              "10300         0  48.0         0  ...        0     1.0    Highly Urban/ Urban\n",
              "\n",
              "[2141 rows x 23 columns]"
            ]
          },
          "metadata": {},
          "execution_count": 27
        }
      ]
    },
    {
      "cell_type": "code",
      "metadata": {
        "id": "DiD0_Qwq_PKc"
      },
      "source": [
        "for col in ft_to_clean:\n",
        "    df_test[col] = df_test[col].apply(clean_ft_money).astype(float)\n",
        "        \n",
        "for col in cat_var:\n",
        "    df_test[col] = df_test[col].apply(fix_values)"
      ],
      "execution_count": 28,
      "outputs": []
    },
    {
      "cell_type": "code",
      "metadata": {
        "id": "kQGJTgbP_pDx"
      },
      "source": [
        "df_test[\"TARGET_FLAG\"] = clf_2.predict(df_test)\n",
        "df_test.to_csv(\"test_auto_Houssem_GUIDARA.csv\")"
      ],
      "execution_count": 30,
      "outputs": []
    },
    {
      "cell_type": "markdown",
      "metadata": {
        "id": "n_9dbmNaCmLE"
      },
      "source": [
        "# Conclusion\n",
        "Within this small project, we dealed with an unbalanced binary classification problem.\n",
        "\n",
        "We started by analyzing the data through which we found solid evidence that some features are correlated to the target variable such as *AGE*, *JOB*, *INCOME*.\n",
        "\n",
        "Debatably surprising, most of the highly correlated features to the target variable are *driver-related* features meaning that they only concern the owner of the car and not in any way the car itself.\n",
        "For example, who could believe that the feature *CAR_AGE* is only the *9th* most important feature.\n",
        "\n",
        "Through the machine learning section, we explored 2 models the first is more or less a baseline model with no hyperparameters fine-tuning which gave as a **f1-score = 0.482**.\n",
        "\n",
        "Thanks to the *flaml* library, we could improve the performance having a **f1-score = 0.526**.\n",
        "\n",
        "As a future research areas, we could investigate some feature selection techniques and try different combinations of missing values handling which could even more improve the overall performance.\n",
        "\n",
        "Needless to say, the choice of metric is crucial and all the analysis depends on it. As for me, I made the choice to go with the *f1-score* as it involves both *precision* and *recall* metrics. However, more advanced metrics could give different insights and are worth exploring such as *Area Under the Curve (AUC)* and *log_loss*."
      ]
    }
  ]
}